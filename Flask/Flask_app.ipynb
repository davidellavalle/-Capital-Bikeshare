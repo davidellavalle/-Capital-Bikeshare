{
 "metadata": {
  "language_info": {
   "codemirror_mode": {
    "name": "ipython",
    "version": 3
   },
   "file_extension": ".py",
   "mimetype": "text/x-python",
   "name": "python",
   "nbconvert_exporter": "python",
   "pygments_lexer": "ipython3",
   "version": "3.8.5-final"
  },
  "orig_nbformat": 2,
  "kernelspec": {
   "name": "python3",
   "display_name": "Python 3.8.5 64-bit (conda)",
   "metadata": {
    "interpreter": {
     "hash": "a9719f16ca6f0343f15fa28d7410c8121e835de914aaa6fbe146cb547a948587"
    }
   }
  }
 },
 "nbformat": 4,
 "nbformat_minor": 2,
 "cells": [
  {
   "cell_type": "code",
   "execution_count": 1,
   "metadata": {},
   "outputs": [],
   "source": [
    "### Import necessary libraries\n",
    "\n",
    "from sklearn.model_selection import train_test_split\n",
    "from sklearn.ensemble import AdaBoostRegressor\n",
    "\n",
    "import pandas as pd\n",
    "import numpy as np\n",
    "\n",
    "import pickle"
   ]
  },
  {
   "cell_type": "code",
   "execution_count": 2,
   "metadata": {},
   "outputs": [
    {
     "output_type": "execute_result",
     "data": {
      "text/plain": [
       "       Unnamed: 0        date     month  hour holiday   weekday Member type  \\\n",
       "0               0  2018-01-01   January     0      No    Monday      Casual   \n",
       "1               1  2018-01-01   January     0      No    Monday      Member   \n",
       "2               2  2018-01-01   January     1      No    Monday      Casual   \n",
       "3               3  2018-01-01   January     1      No    Monday      Member   \n",
       "4               4  2018-01-01   January     2      No    Monday      Casual   \n",
       "...           ...         ...       ...   ...     ...       ...         ...   \n",
       "50889       50889  2020-12-31  December    21      No  Thursday      member   \n",
       "50890       50890  2020-12-31  December    22      No  Thursday      casual   \n",
       "50891       50891  2020-12-31  December    22      No  Thursday      member   \n",
       "50892       50892  2020-12-31  December    23      No  Thursday      casual   \n",
       "50893       50893  2020-12-31  December    23      No  Thursday      member   \n",
       "\n",
       "       count  \n",
       "0          6  \n",
       "1         28  \n",
       "2         11  \n",
       "3         38  \n",
       "4          7  \n",
       "...      ...  \n",
       "50889     29  \n",
       "50890     25  \n",
       "50891     31  \n",
       "50892     32  \n",
       "50893     21  \n",
       "\n",
       "[50894 rows x 8 columns]"
      ],
      "text/html": "<div>\n<style scoped>\n    .dataframe tbody tr th:only-of-type {\n        vertical-align: middle;\n    }\n\n    .dataframe tbody tr th {\n        vertical-align: top;\n    }\n\n    .dataframe thead th {\n        text-align: right;\n    }\n</style>\n<table border=\"1\" class=\"dataframe\">\n  <thead>\n    <tr style=\"text-align: right;\">\n      <th></th>\n      <th>Unnamed: 0</th>\n      <th>date</th>\n      <th>month</th>\n      <th>hour</th>\n      <th>holiday</th>\n      <th>weekday</th>\n      <th>Member type</th>\n      <th>count</th>\n    </tr>\n  </thead>\n  <tbody>\n    <tr>\n      <th>0</th>\n      <td>0</td>\n      <td>2018-01-01</td>\n      <td>January</td>\n      <td>0</td>\n      <td>No</td>\n      <td>Monday</td>\n      <td>Casual</td>\n      <td>6</td>\n    </tr>\n    <tr>\n      <th>1</th>\n      <td>1</td>\n      <td>2018-01-01</td>\n      <td>January</td>\n      <td>0</td>\n      <td>No</td>\n      <td>Monday</td>\n      <td>Member</td>\n      <td>28</td>\n    </tr>\n    <tr>\n      <th>2</th>\n      <td>2</td>\n      <td>2018-01-01</td>\n      <td>January</td>\n      <td>1</td>\n      <td>No</td>\n      <td>Monday</td>\n      <td>Casual</td>\n      <td>11</td>\n    </tr>\n    <tr>\n      <th>3</th>\n      <td>3</td>\n      <td>2018-01-01</td>\n      <td>January</td>\n      <td>1</td>\n      <td>No</td>\n      <td>Monday</td>\n      <td>Member</td>\n      <td>38</td>\n    </tr>\n    <tr>\n      <th>4</th>\n      <td>4</td>\n      <td>2018-01-01</td>\n      <td>January</td>\n      <td>2</td>\n      <td>No</td>\n      <td>Monday</td>\n      <td>Casual</td>\n      <td>7</td>\n    </tr>\n    <tr>\n      <th>...</th>\n      <td>...</td>\n      <td>...</td>\n      <td>...</td>\n      <td>...</td>\n      <td>...</td>\n      <td>...</td>\n      <td>...</td>\n      <td>...</td>\n    </tr>\n    <tr>\n      <th>50889</th>\n      <td>50889</td>\n      <td>2020-12-31</td>\n      <td>December</td>\n      <td>21</td>\n      <td>No</td>\n      <td>Thursday</td>\n      <td>member</td>\n      <td>29</td>\n    </tr>\n    <tr>\n      <th>50890</th>\n      <td>50890</td>\n      <td>2020-12-31</td>\n      <td>December</td>\n      <td>22</td>\n      <td>No</td>\n      <td>Thursday</td>\n      <td>casual</td>\n      <td>25</td>\n    </tr>\n    <tr>\n      <th>50891</th>\n      <td>50891</td>\n      <td>2020-12-31</td>\n      <td>December</td>\n      <td>22</td>\n      <td>No</td>\n      <td>Thursday</td>\n      <td>member</td>\n      <td>31</td>\n    </tr>\n    <tr>\n      <th>50892</th>\n      <td>50892</td>\n      <td>2020-12-31</td>\n      <td>December</td>\n      <td>23</td>\n      <td>No</td>\n      <td>Thursday</td>\n      <td>casual</td>\n      <td>32</td>\n    </tr>\n    <tr>\n      <th>50893</th>\n      <td>50893</td>\n      <td>2020-12-31</td>\n      <td>December</td>\n      <td>23</td>\n      <td>No</td>\n      <td>Thursday</td>\n      <td>member</td>\n      <td>21</td>\n    </tr>\n  </tbody>\n</table>\n<p>50894 rows × 8 columns</p>\n</div>"
     },
     "metadata": {},
     "execution_count": 2
    }
   ],
   "source": [
    "\n",
    "## upload data\n",
    "\n",
    "df=pd.read_csv(r'..\\Flask\\final_18_19_20.csv')\n",
    "df"
   ]
  },
  {
   "cell_type": "code",
   "execution_count": 5,
   "metadata": {},
   "outputs": [
    {
     "output_type": "execute_result",
     "data": {
      "text/plain": [
       "       hour     month holiday   weekday Member type  count\n",
       "0         0   January      No    Monday      Casual      6\n",
       "1         0   January      No    Monday      Member     28\n",
       "2         1   January      No    Monday      Casual     11\n",
       "3         1   January      No    Monday      Member     38\n",
       "4         2   January      No    Monday      Casual      7\n",
       "...     ...       ...     ...       ...         ...    ...\n",
       "50889    21  December      No  Thursday      member     29\n",
       "50890    22  December      No  Thursday      casual     25\n",
       "50891    22  December      No  Thursday      member     31\n",
       "50892    23  December      No  Thursday      casual     32\n",
       "50893    23  December      No  Thursday      member     21\n",
       "\n",
       "[50894 rows x 6 columns]"
      ],
      "text/html": "<div>\n<style scoped>\n    .dataframe tbody tr th:only-of-type {\n        vertical-align: middle;\n    }\n\n    .dataframe tbody tr th {\n        vertical-align: top;\n    }\n\n    .dataframe thead th {\n        text-align: right;\n    }\n</style>\n<table border=\"1\" class=\"dataframe\">\n  <thead>\n    <tr style=\"text-align: right;\">\n      <th></th>\n      <th>hour</th>\n      <th>month</th>\n      <th>holiday</th>\n      <th>weekday</th>\n      <th>Member type</th>\n      <th>count</th>\n    </tr>\n  </thead>\n  <tbody>\n    <tr>\n      <th>0</th>\n      <td>0</td>\n      <td>January</td>\n      <td>No</td>\n      <td>Monday</td>\n      <td>Casual</td>\n      <td>6</td>\n    </tr>\n    <tr>\n      <th>1</th>\n      <td>0</td>\n      <td>January</td>\n      <td>No</td>\n      <td>Monday</td>\n      <td>Member</td>\n      <td>28</td>\n    </tr>\n    <tr>\n      <th>2</th>\n      <td>1</td>\n      <td>January</td>\n      <td>No</td>\n      <td>Monday</td>\n      <td>Casual</td>\n      <td>11</td>\n    </tr>\n    <tr>\n      <th>3</th>\n      <td>1</td>\n      <td>January</td>\n      <td>No</td>\n      <td>Monday</td>\n      <td>Member</td>\n      <td>38</td>\n    </tr>\n    <tr>\n      <th>4</th>\n      <td>2</td>\n      <td>January</td>\n      <td>No</td>\n      <td>Monday</td>\n      <td>Casual</td>\n      <td>7</td>\n    </tr>\n    <tr>\n      <th>...</th>\n      <td>...</td>\n      <td>...</td>\n      <td>...</td>\n      <td>...</td>\n      <td>...</td>\n      <td>...</td>\n    </tr>\n    <tr>\n      <th>50889</th>\n      <td>21</td>\n      <td>December</td>\n      <td>No</td>\n      <td>Thursday</td>\n      <td>member</td>\n      <td>29</td>\n    </tr>\n    <tr>\n      <th>50890</th>\n      <td>22</td>\n      <td>December</td>\n      <td>No</td>\n      <td>Thursday</td>\n      <td>casual</td>\n      <td>25</td>\n    </tr>\n    <tr>\n      <th>50891</th>\n      <td>22</td>\n      <td>December</td>\n      <td>No</td>\n      <td>Thursday</td>\n      <td>member</td>\n      <td>31</td>\n    </tr>\n    <tr>\n      <th>50892</th>\n      <td>23</td>\n      <td>December</td>\n      <td>No</td>\n      <td>Thursday</td>\n      <td>casual</td>\n      <td>32</td>\n    </tr>\n    <tr>\n      <th>50893</th>\n      <td>23</td>\n      <td>December</td>\n      <td>No</td>\n      <td>Thursday</td>\n      <td>member</td>\n      <td>21</td>\n    </tr>\n  </tbody>\n</table>\n<p>50894 rows × 6 columns</p>\n</div>"
     },
     "metadata": {},
     "execution_count": 5
    }
   ],
   "source": [
    "## Preprocessing\n",
    "\n",
    "df = df[['hour','month','holiday', 'weekday','Member type','count']]\n",
    "df"
   ]
  },
  {
   "cell_type": "code",
   "execution_count": 6,
   "metadata": {},
   "outputs": [
    {
     "output_type": "execute_result",
     "data": {
      "text/plain": [
       "       hour     month holiday   weekday Member_type  count\n",
       "0         0   January      No    Monday      Casual      6\n",
       "1         0   January      No    Monday      Member     28\n",
       "2         1   January      No    Monday      Casual     11\n",
       "3         1   January      No    Monday      Member     38\n",
       "4         2   January      No    Monday      Casual      7\n",
       "...     ...       ...     ...       ...         ...    ...\n",
       "50889    21  December      No  Thursday      member     29\n",
       "50890    22  December      No  Thursday      casual     25\n",
       "50891    22  December      No  Thursday      member     31\n",
       "50892    23  December      No  Thursday      casual     32\n",
       "50893    23  December      No  Thursday      member     21\n",
       "\n",
       "[50894 rows x 6 columns]"
      ],
      "text/html": "<div>\n<style scoped>\n    .dataframe tbody tr th:only-of-type {\n        vertical-align: middle;\n    }\n\n    .dataframe tbody tr th {\n        vertical-align: top;\n    }\n\n    .dataframe thead th {\n        text-align: right;\n    }\n</style>\n<table border=\"1\" class=\"dataframe\">\n  <thead>\n    <tr style=\"text-align: right;\">\n      <th></th>\n      <th>hour</th>\n      <th>month</th>\n      <th>holiday</th>\n      <th>weekday</th>\n      <th>Member_type</th>\n      <th>count</th>\n    </tr>\n  </thead>\n  <tbody>\n    <tr>\n      <th>0</th>\n      <td>0</td>\n      <td>January</td>\n      <td>No</td>\n      <td>Monday</td>\n      <td>Casual</td>\n      <td>6</td>\n    </tr>\n    <tr>\n      <th>1</th>\n      <td>0</td>\n      <td>January</td>\n      <td>No</td>\n      <td>Monday</td>\n      <td>Member</td>\n      <td>28</td>\n    </tr>\n    <tr>\n      <th>2</th>\n      <td>1</td>\n      <td>January</td>\n      <td>No</td>\n      <td>Monday</td>\n      <td>Casual</td>\n      <td>11</td>\n    </tr>\n    <tr>\n      <th>3</th>\n      <td>1</td>\n      <td>January</td>\n      <td>No</td>\n      <td>Monday</td>\n      <td>Member</td>\n      <td>38</td>\n    </tr>\n    <tr>\n      <th>4</th>\n      <td>2</td>\n      <td>January</td>\n      <td>No</td>\n      <td>Monday</td>\n      <td>Casual</td>\n      <td>7</td>\n    </tr>\n    <tr>\n      <th>...</th>\n      <td>...</td>\n      <td>...</td>\n      <td>...</td>\n      <td>...</td>\n      <td>...</td>\n      <td>...</td>\n    </tr>\n    <tr>\n      <th>50889</th>\n      <td>21</td>\n      <td>December</td>\n      <td>No</td>\n      <td>Thursday</td>\n      <td>member</td>\n      <td>29</td>\n    </tr>\n    <tr>\n      <th>50890</th>\n      <td>22</td>\n      <td>December</td>\n      <td>No</td>\n      <td>Thursday</td>\n      <td>casual</td>\n      <td>25</td>\n    </tr>\n    <tr>\n      <th>50891</th>\n      <td>22</td>\n      <td>December</td>\n      <td>No</td>\n      <td>Thursday</td>\n      <td>member</td>\n      <td>31</td>\n    </tr>\n    <tr>\n      <th>50892</th>\n      <td>23</td>\n      <td>December</td>\n      <td>No</td>\n      <td>Thursday</td>\n      <td>casual</td>\n      <td>32</td>\n    </tr>\n    <tr>\n      <th>50893</th>\n      <td>23</td>\n      <td>December</td>\n      <td>No</td>\n      <td>Thursday</td>\n      <td>member</td>\n      <td>21</td>\n    </tr>\n  </tbody>\n</table>\n<p>50894 rows × 6 columns</p>\n</div>"
     },
     "metadata": {},
     "execution_count": 6
    }
   ],
   "source": [
    "df.columns = [ 'hour','month','holiday','weekday','Member_type','count']\n",
    "df"
   ]
  },
  {
   "cell_type": "code",
   "execution_count": 7,
   "metadata": {},
   "outputs": [
    {
     "output_type": "stream",
     "name": "stderr",
     "text": [
      "C:\\Users\\Davide Della Valle\\anacondanew\\lib\\site-packages\\pandas\\core\\generic.py:5168: SettingWithCopyWarning: \nA value is trying to be set on a copy of a slice from a DataFrame.\nTry using .loc[row_indexer,col_indexer] = value instead\n\nSee the caveats in the documentation: https://pandas.pydata.org/pandas-docs/stable/user_guide/indexing.html#returning-a-view-versus-a-copy\n  self[name] = value\n"
     ]
    }
   ],
   "source": [
    "df.holiday = df.holiday.astype('category')\n",
    "df.weekday = df.weekday.astype('category')\n",
    "df.month = df.month.astype('category')\n",
    "df.Member_type = df.Member_type.astype('category')"
   ]
  },
  {
   "cell_type": "code",
   "execution_count": 8,
   "metadata": {},
   "outputs": [
    {
     "output_type": "execute_result",
     "data": {
      "text/plain": [
       "hour              int64\n",
       "month          category\n",
       "holiday        category\n",
       "weekday        category\n",
       "Member_type    category\n",
       "count             int64\n",
       "dtype: object"
      ]
     },
     "metadata": {},
     "execution_count": 8
    }
   ],
   "source": [
    "df.dtypes"
   ]
  },
  {
   "cell_type": "code",
   "execution_count": 9,
   "metadata": {},
   "outputs": [
    {
     "output_type": "execute_result",
     "data": {
      "text/plain": [
       "       hour  count  month_April  month_August  month_December  month_February  \\\n",
       "0         0      6            0             0               0               0   \n",
       "1         0     28            0             0               0               0   \n",
       "2         1     11            0             0               0               0   \n",
       "3         1     38            0             0               0               0   \n",
       "4         2      7            0             0               0               0   \n",
       "...     ...    ...          ...           ...             ...             ...   \n",
       "50889    21     29            0             0               1               0   \n",
       "50890    22     25            0             0               1               0   \n",
       "50891    22     31            0             0               1               0   \n",
       "50892    23     32            0             0               1               0   \n",
       "50893    23     21            0             0               1               0   \n",
       "\n",
       "       month_January  month_July  month_June  month_March  ...  \\\n",
       "0                  1           0           0            0  ...   \n",
       "1                  1           0           0            0  ...   \n",
       "2                  1           0           0            0  ...   \n",
       "3                  1           0           0            0  ...   \n",
       "4                  1           0           0            0  ...   \n",
       "...              ...         ...         ...          ...  ...   \n",
       "50889              0           0           0            0  ...   \n",
       "50890              0           0           0            0  ...   \n",
       "50891              0           0           0            0  ...   \n",
       "50892              0           0           0            0  ...   \n",
       "50893              0           0           0            0  ...   \n",
       "\n",
       "       weekday_Monday  weekday_Saturday  weekday_Sunday  weekday_Thursday  \\\n",
       "0                   1                 0               0                 0   \n",
       "1                   1                 0               0                 0   \n",
       "2                   1                 0               0                 0   \n",
       "3                   1                 0               0                 0   \n",
       "4                   1                 0               0                 0   \n",
       "...               ...               ...             ...               ...   \n",
       "50889               0                 0               0                 1   \n",
       "50890               0                 0               0                 1   \n",
       "50891               0                 0               0                 1   \n",
       "50892               0                 0               0                 1   \n",
       "50893               0                 0               0                 1   \n",
       "\n",
       "       weekday_Tuesday  weekday_Wednesday  Member_type_Casual  \\\n",
       "0                    0                  0                   1   \n",
       "1                    0                  0                   0   \n",
       "2                    0                  0                   1   \n",
       "3                    0                  0                   0   \n",
       "4                    0                  0                   1   \n",
       "...                ...                ...                 ...   \n",
       "50889                0                  0                   0   \n",
       "50890                0                  0                   0   \n",
       "50891                0                  0                   0   \n",
       "50892                0                  0                   0   \n",
       "50893                0                  0                   0   \n",
       "\n",
       "       Member_type_Member  Member_type_casual  Member_type_member  \n",
       "0                       0                   0                   0  \n",
       "1                       1                   0                   0  \n",
       "2                       0                   0                   0  \n",
       "3                       1                   0                   0  \n",
       "4                       0                   0                   0  \n",
       "...                   ...                 ...                 ...  \n",
       "50889                   0                   0                   1  \n",
       "50890                   0                   1                   0  \n",
       "50891                   0                   0                   1  \n",
       "50892                   0                   1                   0  \n",
       "50893                   0                   0                   1  \n",
       "\n",
       "[50894 rows x 27 columns]"
      ],
      "text/html": "<div>\n<style scoped>\n    .dataframe tbody tr th:only-of-type {\n        vertical-align: middle;\n    }\n\n    .dataframe tbody tr th {\n        vertical-align: top;\n    }\n\n    .dataframe thead th {\n        text-align: right;\n    }\n</style>\n<table border=\"1\" class=\"dataframe\">\n  <thead>\n    <tr style=\"text-align: right;\">\n      <th></th>\n      <th>hour</th>\n      <th>count</th>\n      <th>month_April</th>\n      <th>month_August</th>\n      <th>month_December</th>\n      <th>month_February</th>\n      <th>month_January</th>\n      <th>month_July</th>\n      <th>month_June</th>\n      <th>month_March</th>\n      <th>...</th>\n      <th>weekday_Monday</th>\n      <th>weekday_Saturday</th>\n      <th>weekday_Sunday</th>\n      <th>weekday_Thursday</th>\n      <th>weekday_Tuesday</th>\n      <th>weekday_Wednesday</th>\n      <th>Member_type_Casual</th>\n      <th>Member_type_Member</th>\n      <th>Member_type_casual</th>\n      <th>Member_type_member</th>\n    </tr>\n  </thead>\n  <tbody>\n    <tr>\n      <th>0</th>\n      <td>0</td>\n      <td>6</td>\n      <td>0</td>\n      <td>0</td>\n      <td>0</td>\n      <td>0</td>\n      <td>1</td>\n      <td>0</td>\n      <td>0</td>\n      <td>0</td>\n      <td>...</td>\n      <td>1</td>\n      <td>0</td>\n      <td>0</td>\n      <td>0</td>\n      <td>0</td>\n      <td>0</td>\n      <td>1</td>\n      <td>0</td>\n      <td>0</td>\n      <td>0</td>\n    </tr>\n    <tr>\n      <th>1</th>\n      <td>0</td>\n      <td>28</td>\n      <td>0</td>\n      <td>0</td>\n      <td>0</td>\n      <td>0</td>\n      <td>1</td>\n      <td>0</td>\n      <td>0</td>\n      <td>0</td>\n      <td>...</td>\n      <td>1</td>\n      <td>0</td>\n      <td>0</td>\n      <td>0</td>\n      <td>0</td>\n      <td>0</td>\n      <td>0</td>\n      <td>1</td>\n      <td>0</td>\n      <td>0</td>\n    </tr>\n    <tr>\n      <th>2</th>\n      <td>1</td>\n      <td>11</td>\n      <td>0</td>\n      <td>0</td>\n      <td>0</td>\n      <td>0</td>\n      <td>1</td>\n      <td>0</td>\n      <td>0</td>\n      <td>0</td>\n      <td>...</td>\n      <td>1</td>\n      <td>0</td>\n      <td>0</td>\n      <td>0</td>\n      <td>0</td>\n      <td>0</td>\n      <td>1</td>\n      <td>0</td>\n      <td>0</td>\n      <td>0</td>\n    </tr>\n    <tr>\n      <th>3</th>\n      <td>1</td>\n      <td>38</td>\n      <td>0</td>\n      <td>0</td>\n      <td>0</td>\n      <td>0</td>\n      <td>1</td>\n      <td>0</td>\n      <td>0</td>\n      <td>0</td>\n      <td>...</td>\n      <td>1</td>\n      <td>0</td>\n      <td>0</td>\n      <td>0</td>\n      <td>0</td>\n      <td>0</td>\n      <td>0</td>\n      <td>1</td>\n      <td>0</td>\n      <td>0</td>\n    </tr>\n    <tr>\n      <th>4</th>\n      <td>2</td>\n      <td>7</td>\n      <td>0</td>\n      <td>0</td>\n      <td>0</td>\n      <td>0</td>\n      <td>1</td>\n      <td>0</td>\n      <td>0</td>\n      <td>0</td>\n      <td>...</td>\n      <td>1</td>\n      <td>0</td>\n      <td>0</td>\n      <td>0</td>\n      <td>0</td>\n      <td>0</td>\n      <td>1</td>\n      <td>0</td>\n      <td>0</td>\n      <td>0</td>\n    </tr>\n    <tr>\n      <th>...</th>\n      <td>...</td>\n      <td>...</td>\n      <td>...</td>\n      <td>...</td>\n      <td>...</td>\n      <td>...</td>\n      <td>...</td>\n      <td>...</td>\n      <td>...</td>\n      <td>...</td>\n      <td>...</td>\n      <td>...</td>\n      <td>...</td>\n      <td>...</td>\n      <td>...</td>\n      <td>...</td>\n      <td>...</td>\n      <td>...</td>\n      <td>...</td>\n      <td>...</td>\n      <td>...</td>\n    </tr>\n    <tr>\n      <th>50889</th>\n      <td>21</td>\n      <td>29</td>\n      <td>0</td>\n      <td>0</td>\n      <td>1</td>\n      <td>0</td>\n      <td>0</td>\n      <td>0</td>\n      <td>0</td>\n      <td>0</td>\n      <td>...</td>\n      <td>0</td>\n      <td>0</td>\n      <td>0</td>\n      <td>1</td>\n      <td>0</td>\n      <td>0</td>\n      <td>0</td>\n      <td>0</td>\n      <td>0</td>\n      <td>1</td>\n    </tr>\n    <tr>\n      <th>50890</th>\n      <td>22</td>\n      <td>25</td>\n      <td>0</td>\n      <td>0</td>\n      <td>1</td>\n      <td>0</td>\n      <td>0</td>\n      <td>0</td>\n      <td>0</td>\n      <td>0</td>\n      <td>...</td>\n      <td>0</td>\n      <td>0</td>\n      <td>0</td>\n      <td>1</td>\n      <td>0</td>\n      <td>0</td>\n      <td>0</td>\n      <td>0</td>\n      <td>1</td>\n      <td>0</td>\n    </tr>\n    <tr>\n      <th>50891</th>\n      <td>22</td>\n      <td>31</td>\n      <td>0</td>\n      <td>0</td>\n      <td>1</td>\n      <td>0</td>\n      <td>0</td>\n      <td>0</td>\n      <td>0</td>\n      <td>0</td>\n      <td>...</td>\n      <td>0</td>\n      <td>0</td>\n      <td>0</td>\n      <td>1</td>\n      <td>0</td>\n      <td>0</td>\n      <td>0</td>\n      <td>0</td>\n      <td>0</td>\n      <td>1</td>\n    </tr>\n    <tr>\n      <th>50892</th>\n      <td>23</td>\n      <td>32</td>\n      <td>0</td>\n      <td>0</td>\n      <td>1</td>\n      <td>0</td>\n      <td>0</td>\n      <td>0</td>\n      <td>0</td>\n      <td>0</td>\n      <td>...</td>\n      <td>0</td>\n      <td>0</td>\n      <td>0</td>\n      <td>1</td>\n      <td>0</td>\n      <td>0</td>\n      <td>0</td>\n      <td>0</td>\n      <td>1</td>\n      <td>0</td>\n    </tr>\n    <tr>\n      <th>50893</th>\n      <td>23</td>\n      <td>21</td>\n      <td>0</td>\n      <td>0</td>\n      <td>1</td>\n      <td>0</td>\n      <td>0</td>\n      <td>0</td>\n      <td>0</td>\n      <td>0</td>\n      <td>...</td>\n      <td>0</td>\n      <td>0</td>\n      <td>0</td>\n      <td>1</td>\n      <td>0</td>\n      <td>0</td>\n      <td>0</td>\n      <td>0</td>\n      <td>0</td>\n      <td>1</td>\n    </tr>\n  </tbody>\n</table>\n<p>50894 rows × 27 columns</p>\n</div>"
     },
     "metadata": {},
     "execution_count": 9
    }
   ],
   "source": [
    "## modelling - creating dummies for month recognition, dividing data between training and test, fitting model with data\n",
    "\n",
    "df = pd.get_dummies(df)\n",
    "df"
   ]
  },
  {
   "cell_type": "code",
   "execution_count": 10,
   "metadata": {},
   "outputs": [],
   "source": [
    "x = df.drop(columns = ['count'])\n",
    "y = df['count']"
   ]
  },
  {
   "cell_type": "code",
   "execution_count": 11,
   "metadata": {},
   "outputs": [],
   "source": [
    "ada = AdaBoostRegressor()"
   ]
  },
  {
   "cell_type": "code",
   "execution_count": 12,
   "metadata": {},
   "outputs": [
    {
     "output_type": "execute_result",
     "data": {
      "text/plain": [
       "AdaBoostRegressor()"
      ]
     },
     "metadata": {},
     "execution_count": 12
    }
   ],
   "source": [
    "ada.fit(x,y)"
   ]
  },
  {
   "cell_type": "code",
   "execution_count": 13,
   "metadata": {},
   "outputs": [],
   "source": [
    "## Save the model in local repository\n",
    "\n",
    "pickle.dump(ada, open('model.pkl','wb'))"
   ]
  },
  {
   "cell_type": "code",
   "execution_count": null,
   "metadata": {},
   "outputs": [],
   "source": []
  }
 ]
}