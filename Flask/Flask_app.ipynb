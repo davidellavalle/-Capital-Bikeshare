In [1]:
from sklearn.model_selection import train_test_split
from sklearn.ensemble import AdaBoostRegressor

import pandas as pd
import numpy as np

import pickle
In [2]:
## read the file

df=pd.read_csv(r'hour.csv')
In [4]:
## preprocess

df.rename(columns={'instant':'rec_id',
'dteday':'datetime',
'holiday':'is_holiday',
'workingday':'is_workingday',
'weathersit':'weather_condition',
'hum':'humidity',
'mnth':'month',
'cnt':'total_count',
'hr':'hour',
'yr':'year'},inplace=True)
In [5]:
df = df[['hour','is_holiday', 'weekday','total_count']]
In [6]:
df.is_holiday = df.is_holiday.astype('category')
df.weekday = df.weekday.astype('category')
In [7]:
df = pd.get_dummies(df)
In [8]:
## modelling

x = df.drop(columns = ['total_count'])
y = df['total_count']
In [9]:
ada = AdaBoostRegressor()
In [10]:
ada.fit(x,y)
Out[10]:
AdaBoostRegressor()
In [11]:
# this line saves the model in the folder, local repository
pickle.dump(ada, open('model.pkl','wb'))
