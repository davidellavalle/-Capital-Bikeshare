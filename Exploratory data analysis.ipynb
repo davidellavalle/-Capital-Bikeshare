{
 "metadata": {
  "language_info": {
   "codemirror_mode": {
    "name": "ipython",
    "version": 3
   },
   "file_extension": ".py",
   "mimetype": "text/x-python",
   "name": "python",
   "nbconvert_exporter": "python",
   "pygments_lexer": "ipython3",
   "version": "3.8.5-final"
  },
  "orig_nbformat": 2,
  "kernelspec": {
   "name": "python3",
   "display_name": "Python 3",
   "language": "python"
  }
 },
 "nbformat": 4,
 "nbformat_minor": 2,
 "cells": [
  {
   "cell_type": "code",
   "execution_count": 33,
   "metadata": {},
   "outputs": [],
   "source": [
    "import pandas as pd\n",
    "import numpy as np"
   ]
  },
  {
   "cell_type": "code",
   "execution_count": 34,
   "metadata": {},
   "outputs": [],
   "source": [
    "# import the datasets\n",
    "\n",
    "day = pd.read_csv(r\"C:\\Users\\Davide Della Valle\\Desktop\\CAB\\Bike sharing\\Capital Bikeshare.ipynb\\day.csv\")\n",
    "hour = pd.read_csv(r\"C:\\Users\\Davide Della Valle\\Desktop\\CAB\\Bike sharing\\Capital Bikeshare.ipynb\\hour.csv\")"
   ]
  },
  {
   "cell_type": "code",
   "execution_count": 35,
   "metadata": {},
   "outputs": [
    {
     "output_type": "execute_result",
     "data": {
      "text/plain": [
       "instant       0\n",
       "dteday        0\n",
       "season        0\n",
       "yr            0\n",
       "mnth          0\n",
       "hr            0\n",
       "holiday       0\n",
       "weekday       0\n",
       "workingday    0\n",
       "weathersit    0\n",
       "temp          0\n",
       "atemp         0\n",
       "hum           0\n",
       "windspeed     0\n",
       "casual        0\n",
       "registered    0\n",
       "cnt           0\n",
       "dtype: int64"
      ]
     },
     "metadata": {},
     "execution_count": 35
    }
   ],
   "source": [
    "# check for null data\n",
    "hour.isnull().sum()"
   ]
  },
  {
   "cell_type": "code",
   "execution_count": 36,
   "metadata": {},
   "outputs": [
    {
     "output_type": "execute_result",
     "data": {
      "text/plain": [
       "instant       0\n",
       "dteday        0\n",
       "season        0\n",
       "yr            0\n",
       "mnth          0\n",
       "holiday       0\n",
       "weekday       0\n",
       "workingday    0\n",
       "weathersit    0\n",
       "temp          0\n",
       "atemp         0\n",
       "hum           0\n",
       "windspeed     0\n",
       "casual        0\n",
       "registered    0\n",
       "cnt           0\n",
       "dtype: int64"
      ]
     },
     "metadata": {},
     "execution_count": 36
    }
   ],
   "source": [
    "day.isnull().sum()"
   ]
  },
  {
   "cell_type": "code",
   "execution_count": 37,
   "metadata": {},
   "outputs": [],
   "source": [
    "# BOTH DF ARE FREE OF MISSING VALUES"
   ]
  },
  {
   "cell_type": "code",
   "execution_count": 38,
   "metadata": {},
   "outputs": [
    {
     "output_type": "execute_result",
     "data": {
      "text/plain": [
       "   instant      dteday  season  yr  mnth  hr  holiday  weekday  workingday  \\\n",
       "0        1  2011-01-01       1   0     1   0        0        6           0   \n",
       "1        2  2011-01-01       1   0     1   1        0        6           0   \n",
       "2        3  2011-01-01       1   0     1   2        0        6           0   \n",
       "3        4  2011-01-01       1   0     1   3        0        6           0   \n",
       "4        5  2011-01-01       1   0     1   4        0        6           0   \n",
       "\n",
       "   weathersit  temp   atemp   hum  windspeed  casual  registered  cnt  \n",
       "0           1  0.24  0.2879  0.81        0.0       3          13   16  \n",
       "1           1  0.22  0.2727  0.80        0.0       8          32   40  \n",
       "2           1  0.22  0.2727  0.80        0.0       5          27   32  \n",
       "3           1  0.24  0.2879  0.75        0.0       3          10   13  \n",
       "4           1  0.24  0.2879  0.75        0.0       0           1    1  "
      ],
      "text/html": "<div>\n<style scoped>\n    .dataframe tbody tr th:only-of-type {\n        vertical-align: middle;\n    }\n\n    .dataframe tbody tr th {\n        vertical-align: top;\n    }\n\n    .dataframe thead th {\n        text-align: right;\n    }\n</style>\n<table border=\"1\" class=\"dataframe\">\n  <thead>\n    <tr style=\"text-align: right;\">\n      <th></th>\n      <th>instant</th>\n      <th>dteday</th>\n      <th>season</th>\n      <th>yr</th>\n      <th>mnth</th>\n      <th>hr</th>\n      <th>holiday</th>\n      <th>weekday</th>\n      <th>workingday</th>\n      <th>weathersit</th>\n      <th>temp</th>\n      <th>atemp</th>\n      <th>hum</th>\n      <th>windspeed</th>\n      <th>casual</th>\n      <th>registered</th>\n      <th>cnt</th>\n    </tr>\n  </thead>\n  <tbody>\n    <tr>\n      <th>0</th>\n      <td>1</td>\n      <td>2011-01-01</td>\n      <td>1</td>\n      <td>0</td>\n      <td>1</td>\n      <td>0</td>\n      <td>0</td>\n      <td>6</td>\n      <td>0</td>\n      <td>1</td>\n      <td>0.24</td>\n      <td>0.2879</td>\n      <td>0.81</td>\n      <td>0.0</td>\n      <td>3</td>\n      <td>13</td>\n      <td>16</td>\n    </tr>\n    <tr>\n      <th>1</th>\n      <td>2</td>\n      <td>2011-01-01</td>\n      <td>1</td>\n      <td>0</td>\n      <td>1</td>\n      <td>1</td>\n      <td>0</td>\n      <td>6</td>\n      <td>0</td>\n      <td>1</td>\n      <td>0.22</td>\n      <td>0.2727</td>\n      <td>0.80</td>\n      <td>0.0</td>\n      <td>8</td>\n      <td>32</td>\n      <td>40</td>\n    </tr>\n    <tr>\n      <th>2</th>\n      <td>3</td>\n      <td>2011-01-01</td>\n      <td>1</td>\n      <td>0</td>\n      <td>1</td>\n      <td>2</td>\n      <td>0</td>\n      <td>6</td>\n      <td>0</td>\n      <td>1</td>\n      <td>0.22</td>\n      <td>0.2727</td>\n      <td>0.80</td>\n      <td>0.0</td>\n      <td>5</td>\n      <td>27</td>\n      <td>32</td>\n    </tr>\n    <tr>\n      <th>3</th>\n      <td>4</td>\n      <td>2011-01-01</td>\n      <td>1</td>\n      <td>0</td>\n      <td>1</td>\n      <td>3</td>\n      <td>0</td>\n      <td>6</td>\n      <td>0</td>\n      <td>1</td>\n      <td>0.24</td>\n      <td>0.2879</td>\n      <td>0.75</td>\n      <td>0.0</td>\n      <td>3</td>\n      <td>10</td>\n      <td>13</td>\n    </tr>\n    <tr>\n      <th>4</th>\n      <td>5</td>\n      <td>2011-01-01</td>\n      <td>1</td>\n      <td>0</td>\n      <td>1</td>\n      <td>4</td>\n      <td>0</td>\n      <td>6</td>\n      <td>0</td>\n      <td>1</td>\n      <td>0.24</td>\n      <td>0.2879</td>\n      <td>0.75</td>\n      <td>0.0</td>\n      <td>0</td>\n      <td>1</td>\n      <td>1</td>\n    </tr>\n  </tbody>\n</table>\n</div>"
     },
     "metadata": {},
     "execution_count": 38
    }
   ],
   "source": [
    "# Let's now have a look at the DFs\n",
    "hour.head(5)"
   ]
  },
  {
   "cell_type": "code",
   "execution_count": 39,
   "metadata": {},
   "outputs": [
    {
     "output_type": "execute_result",
     "data": {
      "text/plain": [
       "   instant      dteday  season  yr  mnth  holiday  weekday  workingday  \\\n",
       "0        1  2011-01-01       1   0     1        0        6           0   \n",
       "1        2  2011-01-02       1   0     1        0        0           0   \n",
       "2        3  2011-01-03       1   0     1        0        1           1   \n",
       "3        4  2011-01-04       1   0     1        0        2           1   \n",
       "4        5  2011-01-05       1   0     1        0        3           1   \n",
       "\n",
       "   weathersit      temp     atemp       hum  windspeed  casual  registered  \\\n",
       "0           2  0.344167  0.363625  0.805833   0.160446     331         654   \n",
       "1           2  0.363478  0.353739  0.696087   0.248539     131         670   \n",
       "2           1  0.196364  0.189405  0.437273   0.248309     120        1229   \n",
       "3           1  0.200000  0.212122  0.590435   0.160296     108        1454   \n",
       "4           1  0.226957  0.229270  0.436957   0.186900      82        1518   \n",
       "\n",
       "    cnt  \n",
       "0   985  \n",
       "1   801  \n",
       "2  1349  \n",
       "3  1562  \n",
       "4  1600  "
      ],
      "text/html": "<div>\n<style scoped>\n    .dataframe tbody tr th:only-of-type {\n        vertical-align: middle;\n    }\n\n    .dataframe tbody tr th {\n        vertical-align: top;\n    }\n\n    .dataframe thead th {\n        text-align: right;\n    }\n</style>\n<table border=\"1\" class=\"dataframe\">\n  <thead>\n    <tr style=\"text-align: right;\">\n      <th></th>\n      <th>instant</th>\n      <th>dteday</th>\n      <th>season</th>\n      <th>yr</th>\n      <th>mnth</th>\n      <th>holiday</th>\n      <th>weekday</th>\n      <th>workingday</th>\n      <th>weathersit</th>\n      <th>temp</th>\n      <th>atemp</th>\n      <th>hum</th>\n      <th>windspeed</th>\n      <th>casual</th>\n      <th>registered</th>\n      <th>cnt</th>\n    </tr>\n  </thead>\n  <tbody>\n    <tr>\n      <th>0</th>\n      <td>1</td>\n      <td>2011-01-01</td>\n      <td>1</td>\n      <td>0</td>\n      <td>1</td>\n      <td>0</td>\n      <td>6</td>\n      <td>0</td>\n      <td>2</td>\n      <td>0.344167</td>\n      <td>0.363625</td>\n      <td>0.805833</td>\n      <td>0.160446</td>\n      <td>331</td>\n      <td>654</td>\n      <td>985</td>\n    </tr>\n    <tr>\n      <th>1</th>\n      <td>2</td>\n      <td>2011-01-02</td>\n      <td>1</td>\n      <td>0</td>\n      <td>1</td>\n      <td>0</td>\n      <td>0</td>\n      <td>0</td>\n      <td>2</td>\n      <td>0.363478</td>\n      <td>0.353739</td>\n      <td>0.696087</td>\n      <td>0.248539</td>\n      <td>131</td>\n      <td>670</td>\n      <td>801</td>\n    </tr>\n    <tr>\n      <th>2</th>\n      <td>3</td>\n      <td>2011-01-03</td>\n      <td>1</td>\n      <td>0</td>\n      <td>1</td>\n      <td>0</td>\n      <td>1</td>\n      <td>1</td>\n      <td>1</td>\n      <td>0.196364</td>\n      <td>0.189405</td>\n      <td>0.437273</td>\n      <td>0.248309</td>\n      <td>120</td>\n      <td>1229</td>\n      <td>1349</td>\n    </tr>\n    <tr>\n      <th>3</th>\n      <td>4</td>\n      <td>2011-01-04</td>\n      <td>1</td>\n      <td>0</td>\n      <td>1</td>\n      <td>0</td>\n      <td>2</td>\n      <td>1</td>\n      <td>1</td>\n      <td>0.200000</td>\n      <td>0.212122</td>\n      <td>0.590435</td>\n      <td>0.160296</td>\n      <td>108</td>\n      <td>1454</td>\n      <td>1562</td>\n    </tr>\n    <tr>\n      <th>4</th>\n      <td>5</td>\n      <td>2011-01-05</td>\n      <td>1</td>\n      <td>0</td>\n      <td>1</td>\n      <td>0</td>\n      <td>3</td>\n      <td>1</td>\n      <td>1</td>\n      <td>0.226957</td>\n      <td>0.229270</td>\n      <td>0.436957</td>\n      <td>0.186900</td>\n      <td>82</td>\n      <td>1518</td>\n      <td>1600</td>\n    </tr>\n  </tbody>\n</table>\n</div>"
     },
     "metadata": {},
     "execution_count": 39
    }
   ],
   "source": [
    "day.head(5)"
   ]
  },
  {
   "cell_type": "code",
   "execution_count": 40,
   "metadata": {},
   "outputs": [
    {
     "output_type": "execute_result",
     "data": {
      "text/plain": [
       "(17379, 17)"
      ]
     },
     "metadata": {},
     "execution_count": 40
    }
   ],
   "source": [
    "hour.shape"
   ]
  },
  {
   "cell_type": "code",
   "execution_count": 41,
   "metadata": {},
   "outputs": [
    {
     "output_type": "execute_result",
     "data": {
      "text/plain": [
       "(731, 16)"
      ]
     },
     "metadata": {},
     "execution_count": 41
    }
   ],
   "source": [
    "day.shape"
   ]
  },
  {
   "cell_type": "code",
   "execution_count": 42,
   "metadata": {},
   "outputs": [],
   "source": [
    "# rename columns for more consistency\n",
    "\n",
    "day.rename(columns={\"dteday\": \"date\", \"yr\": \"year\", \"mnth\":\"month\",\"weathersit\":\"weather_conditions\", \"atemp\":\"felt_temp\", \"hum\":\"humidity\", \"casual\":\"bike_casual_users\", \"registered\":\"bike_registered_users\", \"cnt\":\"tot_bike_users\"}, inplace=True)\n",
    "hour.rename(columns={\"dteday\": \"date\", \"yr\": \"year\", \"mnth\":\"month\",\"hr\":\"hour\",\"weathersit\":\"weather_conditions\", \"atemp\":\"felt_temp\", \"hum\":\"humidity\", \"casual\":\"casual_users\", \"registered\":\"registered_users\", \"cnt\":\"tot_users\"}, inplace=True)"
   ]
  },
  {
   "cell_type": "code",
   "execution_count": 43,
   "metadata": {},
   "outputs": [],
   "source": [
    "# replace values for more consistency\n",
    "\n",
    "hour[\"season\"]=hour[\"season\"].replace([1,2,3,4], [\"Winter\",\"Spring\", \"Summer\", \"Fall\"])\n",
    "hour[\"year\"]=hour[\"year\"].replace([0,1], [\"2011\",\"2012\"])\n",
    "hour[\"weekday\"]=hour[\"weekday\"].replace([1,2,3,4,5,6,0], [\"Monday\",\"Tuesday\", \"Wednesday\", \"Thursday\", \"Friday\", \"Saturday\",\"Sunday\"])\n",
    "hour[\"workingday\"]=hour[\"workingday\"].replace([0,1], [\"no\",\"yes\"])\n",
    "hour[\"holiday\"]=hour[\"holiday\"].replace([0,1], [\"no\",\"yes\"])\n",
    "hour[\"weather_conditions\"]=hour[\"weather_conditions\"].replace([1,2,3,4], [\"Sunny\",\"Cloudy\", \"Rainy\", \"Stormy\"])\n",
    "hour[\"month\"]=hour[\"month\"].replace([1,2,3,4,5,6,7,8,9,10,11,12], [\"January\",\"February\", \"March\", \"April\",\"May\",\"June\", \"July\", \"August\",\"September\",\"October\", \"November\", \"December\"])"
   ]
  },
  {
   "cell_type": "code",
   "execution_count": 44,
   "metadata": {},
   "outputs": [],
   "source": [
    "day[\"season\"]=day[\"season\"].replace([1,2,3,4], [\"Winter\",\"Spring\", \"Summer\", \"Fall\"])\n",
    "day[\"year\"]=day[\"year\"].replace([0,1], [\"2011\",\"2012\"])\n",
    "day[\"weekday\"]=day[\"weekday\"].replace([1,2,3,4,5,6,0], [\"Monday\",\"Tuesday\", \"Wednesday\", \"Thursday\", \"Friday\", \"Sathurday\",\"Sunday\"])\n",
    "day[\"workingday\"]=day[\"workingday\"].replace([0,1], [\"no\",\"yes\"])\n",
    "day[\"holiday\"]=day[\"holiday\"].replace([0,1], [\"no\",\"yes\"])\n",
    "day[\"weather_conditions\"]=day[\"weather_conditions\"].replace([1,2,3,4], [\"Sunny\",\"Cloudy\", \"Rainy\", \"Stormy\"])\n",
    "day[\"month\"]=day[\"month\"].replace([1,2,3,4,5,6,7,8,9,10,11,12], [\"January\",\"February\", \"March\", \"April\",\"May\",\"June\", \"July\", \"August\",\"September\",\"October\", \"November\", \"December\"])"
   ]
  },
  {
   "cell_type": "code",
   "execution_count": 45,
   "metadata": {},
   "outputs": [],
   "source": [
    "# It would be interesting to have a look at the different data types I have available and think about possible conversions or replacing the current data with new labels\n",
    "\n",
    "# eg. hour.dteday should be converted to a timestamp (datetime)\n",
    "# eg. values in hour.season should be replaced with season names then the data should be converted to category"
   ]
  },
  {
   "cell_type": "code",
   "execution_count": 46,
   "metadata": {},
   "outputs": [
    {
     "output_type": "execute_result",
     "data": {
      "text/plain": [
       "instant                 int64\n",
       "date                   object\n",
       "season                 object\n",
       "year                   object\n",
       "month                  object\n",
       "hour                    int64\n",
       "holiday                object\n",
       "weekday                object\n",
       "workingday             object\n",
       "weather_conditions     object\n",
       "temp                  float64\n",
       "felt_temp             float64\n",
       "humidity              float64\n",
       "windspeed             float64\n",
       "casual_users            int64\n",
       "registered_users        int64\n",
       "tot_users               int64\n",
       "dtype: object"
      ]
     },
     "metadata": {},
     "execution_count": 46
    }
   ],
   "source": [
    "hour.dtypes"
   ]
  },
  {
   "cell_type": "code",
   "execution_count": 47,
   "metadata": {},
   "outputs": [
    {
     "output_type": "execute_result",
     "data": {
      "text/plain": [
       "instant                    int64\n",
       "date                      object\n",
       "season                    object\n",
       "year                      object\n",
       "month                     object\n",
       "holiday                   object\n",
       "weekday                   object\n",
       "workingday                object\n",
       "weather_conditions        object\n",
       "temp                     float64\n",
       "felt_temp                float64\n",
       "humidity                 float64\n",
       "windspeed                float64\n",
       "bike_casual_users          int64\n",
       "bike_registered_users      int64\n",
       "tot_bike_users             int64\n",
       "dtype: object"
      ]
     },
     "metadata": {},
     "execution_count": 47
    }
   ],
   "source": [
    "day.dtypes"
   ]
  },
  {
   "cell_type": "code",
   "execution_count": 48,
   "metadata": {},
   "outputs": [
    {
     "output_type": "execute_result",
     "data": {
      "text/plain": [
       "   instant        date  season  year    month  hour holiday   weekday  \\\n",
       "0        1  2011-01-01  Winter  2011  January     0      no  Saturday   \n",
       "1        2  2011-01-01  Winter  2011  January     1      no  Saturday   \n",
       "2        3  2011-01-01  Winter  2011  January     2      no  Saturday   \n",
       "3        4  2011-01-01  Winter  2011  January     3      no  Saturday   \n",
       "4        5  2011-01-01  Winter  2011  January     4      no  Saturday   \n",
       "\n",
       "  workingday weather_conditions  temp  felt_temp  humidity  windspeed  \\\n",
       "0         no              Sunny  0.24     0.2879      0.81        0.0   \n",
       "1         no              Sunny  0.22     0.2727      0.80        0.0   \n",
       "2         no              Sunny  0.22     0.2727      0.80        0.0   \n",
       "3         no              Sunny  0.24     0.2879      0.75        0.0   \n",
       "4         no              Sunny  0.24     0.2879      0.75        0.0   \n",
       "\n",
       "   casual_users  registered_users  tot_users  \n",
       "0             3                13         16  \n",
       "1             8                32         40  \n",
       "2             5                27         32  \n",
       "3             3                10         13  \n",
       "4             0                 1          1  "
      ],
      "text/html": "<div>\n<style scoped>\n    .dataframe tbody tr th:only-of-type {\n        vertical-align: middle;\n    }\n\n    .dataframe tbody tr th {\n        vertical-align: top;\n    }\n\n    .dataframe thead th {\n        text-align: right;\n    }\n</style>\n<table border=\"1\" class=\"dataframe\">\n  <thead>\n    <tr style=\"text-align: right;\">\n      <th></th>\n      <th>instant</th>\n      <th>date</th>\n      <th>season</th>\n      <th>year</th>\n      <th>month</th>\n      <th>hour</th>\n      <th>holiday</th>\n      <th>weekday</th>\n      <th>workingday</th>\n      <th>weather_conditions</th>\n      <th>temp</th>\n      <th>felt_temp</th>\n      <th>humidity</th>\n      <th>windspeed</th>\n      <th>casual_users</th>\n      <th>registered_users</th>\n      <th>tot_users</th>\n    </tr>\n  </thead>\n  <tbody>\n    <tr>\n      <th>0</th>\n      <td>1</td>\n      <td>2011-01-01</td>\n      <td>Winter</td>\n      <td>2011</td>\n      <td>January</td>\n      <td>0</td>\n      <td>no</td>\n      <td>Saturday</td>\n      <td>no</td>\n      <td>Sunny</td>\n      <td>0.24</td>\n      <td>0.2879</td>\n      <td>0.81</td>\n      <td>0.0</td>\n      <td>3</td>\n      <td>13</td>\n      <td>16</td>\n    </tr>\n    <tr>\n      <th>1</th>\n      <td>2</td>\n      <td>2011-01-01</td>\n      <td>Winter</td>\n      <td>2011</td>\n      <td>January</td>\n      <td>1</td>\n      <td>no</td>\n      <td>Saturday</td>\n      <td>no</td>\n      <td>Sunny</td>\n      <td>0.22</td>\n      <td>0.2727</td>\n      <td>0.80</td>\n      <td>0.0</td>\n      <td>8</td>\n      <td>32</td>\n      <td>40</td>\n    </tr>\n    <tr>\n      <th>2</th>\n      <td>3</td>\n      <td>2011-01-01</td>\n      <td>Winter</td>\n      <td>2011</td>\n      <td>January</td>\n      <td>2</td>\n      <td>no</td>\n      <td>Saturday</td>\n      <td>no</td>\n      <td>Sunny</td>\n      <td>0.22</td>\n      <td>0.2727</td>\n      <td>0.80</td>\n      <td>0.0</td>\n      <td>5</td>\n      <td>27</td>\n      <td>32</td>\n    </tr>\n    <tr>\n      <th>3</th>\n      <td>4</td>\n      <td>2011-01-01</td>\n      <td>Winter</td>\n      <td>2011</td>\n      <td>January</td>\n      <td>3</td>\n      <td>no</td>\n      <td>Saturday</td>\n      <td>no</td>\n      <td>Sunny</td>\n      <td>0.24</td>\n      <td>0.2879</td>\n      <td>0.75</td>\n      <td>0.0</td>\n      <td>3</td>\n      <td>10</td>\n      <td>13</td>\n    </tr>\n    <tr>\n      <th>4</th>\n      <td>5</td>\n      <td>2011-01-01</td>\n      <td>Winter</td>\n      <td>2011</td>\n      <td>January</td>\n      <td>4</td>\n      <td>no</td>\n      <td>Saturday</td>\n      <td>no</td>\n      <td>Sunny</td>\n      <td>0.24</td>\n      <td>0.2879</td>\n      <td>0.75</td>\n      <td>0.0</td>\n      <td>0</td>\n      <td>1</td>\n      <td>1</td>\n    </tr>\n  </tbody>\n</table>\n</div>"
     },
     "metadata": {},
     "execution_count": 48
    }
   ],
   "source": [
    "hour.head()"
   ]
  },
  {
   "cell_type": "code",
   "execution_count": 49,
   "metadata": {},
   "outputs": [],
   "source": [
    "# data type conversion\n",
    "\n",
    "hour[\"date\"] = pd.to_datetime(hour[\"date\"])\n",
    "hour[\"season\"] = hour[\"season\"].astype('category')\n",
    "hour[\"year\"] = hour[\"year\"].astype('category')\n",
    "hour[\"month\"] = hour[\"month\"].astype('category')\n",
    "hour[\"hour\"] = hour[\"hour\"].astype('category')\n",
    "hour[\"holiday\"] = hour[\"holiday\"].astype('category')\n",
    "hour[\"workingday\"] = hour[\"workingday\"].astype('category')\n",
    "hour[\"weather_conditions\"] = hour[\"weather_conditions\"].astype('category')\n",
    "hour[\"weekday\"] = hour[\"weekday\"].astype('category')"
   ]
  },
  {
   "cell_type": "code",
   "execution_count": 50,
   "metadata": {},
   "outputs": [],
   "source": [
    "day[\"date\"] =  pd.to_datetime(day[\"date\"])\n",
    "day[\"season\"] = day[\"season\"].astype('category')\n",
    "day[\"year\"] = day[\"year\"].astype('category')\n",
    "day[\"month\"] = day[\"month\"].astype('category')\n",
    "day[\"holiday\"] = day[\"holiday\"].astype('category')\n",
    "day[\"workingday\"] = day[\"workingday\"].astype('category')\n",
    "day[\"weather_conditions\"] = day[\"weather_conditions\"].astype('category')\n",
    "day[\"weekday\"] = day[\"weekday\"].astype('category')"
   ]
  },
  {
   "cell_type": "code",
   "execution_count": 51,
   "metadata": {},
   "outputs": [
    {
     "output_type": "stream",
     "name": "stdout",
     "text": [
      "(-7.06, 39.0)\n"
     ]
    }
   ],
   "source": [
    "# denormalizing temp, first prepare formula then check with range if formula is actually working correctly\n",
    "\n",
    "# x = 47*y - 8\n",
    "x = list(hour[\"temp\"].values*47-8)\n",
    "min_val = min(x)\n",
    "max_val = max(x)\n",
    "range_data = (min_val, max_val)\n",
    "print(range_data)"
   ]
  },
  {
   "cell_type": "code",
   "execution_count": 52,
   "metadata": {},
   "outputs": [],
   "source": [
    "# replacing values in corresponding columns \n",
    "hour[\"temp\"].replace(hour[\"temp\"].values, list(hour[\"temp\"].values*47-8),inplace=True)\n",
    "day[\"temp\"].replace(day[\"temp\"].values, list(day[\"temp\"].values*47-8),inplace=True)"
   ]
  },
  {
   "cell_type": "code",
   "execution_count": 53,
   "metadata": {},
   "outputs": [],
   "source": [
    "# applying the same method to other columns\n",
    "\n",
    "day[\"felt_temp\"].replace(day[\"felt_temp\"].values, list(day[\"felt_temp\"].values*66-16),inplace=True)\n",
    "hour[\"felt_temp\"].replace(hour[\"felt_temp\"].values, list(hour[\"felt_temp\"].values*66-16),inplace=True)\n",
    "hour[\"windspeed\"].replace(hour[\"windspeed\"].values, list(hour[\"windspeed\"].values*67),inplace=True)\n",
    "day[\"windspeed\"].replace(day[\"windspeed\"].values, list(day[\"windspeed\"].values*67),inplace=True)\n",
    "hour[\"humidity\"].replace(hour[\"humidity\"].values, list(hour[\"humidity\"].values*100),inplace=True)\n",
    "day[\"humidity\"].replace(day[\"humidity\"].values, list(day[\"humidity\"].values*100),inplace=True)"
   ]
  },
  {
   "cell_type": "code",
   "execution_count": null,
   "metadata": {},
   "outputs": [],
   "source": []
  }
 ]
}