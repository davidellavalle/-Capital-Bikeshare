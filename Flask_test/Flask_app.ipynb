{
 "metadata": {
  "language_info": {
   "codemirror_mode": {
    "name": "ipython",
    "version": 3
   },
   "file_extension": ".py",
   "mimetype": "text/x-python",
   "name": "python",
   "nbconvert_exporter": "python",
   "pygments_lexer": "ipython3",
   "version": "3.8.5-final"
  },
  "orig_nbformat": 2,
  "kernelspec": {
   "name": "python3",
   "display_name": "Python 3.8.5 64-bit (conda)",
   "metadata": {
    "interpreter": {
     "hash": "a9719f16ca6f0343f15fa28d7410c8121e835de914aaa6fbe146cb547a948587"
    }
   }
  }
 },
 "nbformat": 4,
 "nbformat_minor": 2,
 "cells": [
  {
   "cell_type": "code",
   "execution_count": 140,
   "metadata": {},
   "outputs": [],
   "source": [
    "### Import necessary libraries\n",
    "\n",
    "from sklearn.model_selection import train_test_split\n",
    "from sklearn.ensemble import AdaBoostRegressor\n",
    "\n",
    "import pandas as pd\n",
    "import numpy as np\n",
    "\n",
    "import pickle"
   ]
  },
  {
   "cell_type": "code",
   "execution_count": 141,
   "metadata": {},
   "outputs": [
    {
     "output_type": "execute_result",
     "data": {
      "text/plain": [
       "       Unnamed: 0        date     month  hour holiday   weekday Member type  \\\n",
       "0               0  2018-01-01   January     0      No    Monday      Casual   \n",
       "1               1  2018-01-01   January     0      No    Monday      Member   \n",
       "2               2  2018-01-01   January     1      No    Monday      Casual   \n",
       "3               3  2018-01-01   January     1      No    Monday      Member   \n",
       "4               4  2018-01-01   January     2      No    Monday      Casual   \n",
       "...           ...         ...       ...   ...     ...       ...         ...   \n",
       "50889       50889  2020-12-31  December    21      No  Thursday      member   \n",
       "50890       50890  2020-12-31  December    22      No  Thursday      casual   \n",
       "50891       50891  2020-12-31  December    22      No  Thursday      member   \n",
       "50892       50892  2020-12-31  December    23      No  Thursday      casual   \n",
       "50893       50893  2020-12-31  December    23      No  Thursday      member   \n",
       "\n",
       "       count  \n",
       "0          6  \n",
       "1         28  \n",
       "2         11  \n",
       "3         38  \n",
       "4          7  \n",
       "...      ...  \n",
       "50889     29  \n",
       "50890     25  \n",
       "50891     31  \n",
       "50892     32  \n",
       "50893     21  \n",
       "\n",
       "[50894 rows x 8 columns]"
      ],
      "text/html": "<div>\n<style scoped>\n    .dataframe tbody tr th:only-of-type {\n        vertical-align: middle;\n    }\n\n    .dataframe tbody tr th {\n        vertical-align: top;\n    }\n\n    .dataframe thead th {\n        text-align: right;\n    }\n</style>\n<table border=\"1\" class=\"dataframe\">\n  <thead>\n    <tr style=\"text-align: right;\">\n      <th></th>\n      <th>Unnamed: 0</th>\n      <th>date</th>\n      <th>month</th>\n      <th>hour</th>\n      <th>holiday</th>\n      <th>weekday</th>\n      <th>Member type</th>\n      <th>count</th>\n    </tr>\n  </thead>\n  <tbody>\n    <tr>\n      <th>0</th>\n      <td>0</td>\n      <td>2018-01-01</td>\n      <td>January</td>\n      <td>0</td>\n      <td>No</td>\n      <td>Monday</td>\n      <td>Casual</td>\n      <td>6</td>\n    </tr>\n    <tr>\n      <th>1</th>\n      <td>1</td>\n      <td>2018-01-01</td>\n      <td>January</td>\n      <td>0</td>\n      <td>No</td>\n      <td>Monday</td>\n      <td>Member</td>\n      <td>28</td>\n    </tr>\n    <tr>\n      <th>2</th>\n      <td>2</td>\n      <td>2018-01-01</td>\n      <td>January</td>\n      <td>1</td>\n      <td>No</td>\n      <td>Monday</td>\n      <td>Casual</td>\n      <td>11</td>\n    </tr>\n    <tr>\n      <th>3</th>\n      <td>3</td>\n      <td>2018-01-01</td>\n      <td>January</td>\n      <td>1</td>\n      <td>No</td>\n      <td>Monday</td>\n      <td>Member</td>\n      <td>38</td>\n    </tr>\n    <tr>\n      <th>4</th>\n      <td>4</td>\n      <td>2018-01-01</td>\n      <td>January</td>\n      <td>2</td>\n      <td>No</td>\n      <td>Monday</td>\n      <td>Casual</td>\n      <td>7</td>\n    </tr>\n    <tr>\n      <th>...</th>\n      <td>...</td>\n      <td>...</td>\n      <td>...</td>\n      <td>...</td>\n      <td>...</td>\n      <td>...</td>\n      <td>...</td>\n      <td>...</td>\n    </tr>\n    <tr>\n      <th>50889</th>\n      <td>50889</td>\n      <td>2020-12-31</td>\n      <td>December</td>\n      <td>21</td>\n      <td>No</td>\n      <td>Thursday</td>\n      <td>member</td>\n      <td>29</td>\n    </tr>\n    <tr>\n      <th>50890</th>\n      <td>50890</td>\n      <td>2020-12-31</td>\n      <td>December</td>\n      <td>22</td>\n      <td>No</td>\n      <td>Thursday</td>\n      <td>casual</td>\n      <td>25</td>\n    </tr>\n    <tr>\n      <th>50891</th>\n      <td>50891</td>\n      <td>2020-12-31</td>\n      <td>December</td>\n      <td>22</td>\n      <td>No</td>\n      <td>Thursday</td>\n      <td>member</td>\n      <td>31</td>\n    </tr>\n    <tr>\n      <th>50892</th>\n      <td>50892</td>\n      <td>2020-12-31</td>\n      <td>December</td>\n      <td>23</td>\n      <td>No</td>\n      <td>Thursday</td>\n      <td>casual</td>\n      <td>32</td>\n    </tr>\n    <tr>\n      <th>50893</th>\n      <td>50893</td>\n      <td>2020-12-31</td>\n      <td>December</td>\n      <td>23</td>\n      <td>No</td>\n      <td>Thursday</td>\n      <td>member</td>\n      <td>21</td>\n    </tr>\n  </tbody>\n</table>\n<p>50894 rows × 8 columns</p>\n</div>"
     },
     "metadata": {},
     "execution_count": 141
    }
   ],
   "source": [
    "\n",
    "## upload data\n",
    "\n",
    "df=pd.read_csv(r'..\\Flask\\final_18_19_20.csv')\n",
    "df"
   ]
  },
  {
   "cell_type": "code",
   "execution_count": 142,
   "metadata": {},
   "outputs": [
    {
     "output_type": "execute_result",
     "data": {
      "text/plain": [
       "       hour  count   weekday     month holiday Member type\n",
       "0         0      6    Monday   January      No      Casual\n",
       "1         0     28    Monday   January      No      Member\n",
       "2         1     11    Monday   January      No      Casual\n",
       "3         1     38    Monday   January      No      Member\n",
       "4         2      7    Monday   January      No      Casual\n",
       "...     ...    ...       ...       ...     ...         ...\n",
       "50889    21     29  Thursday  December      No      member\n",
       "50890    22     25  Thursday  December      No      casual\n",
       "50891    22     31  Thursday  December      No      member\n",
       "50892    23     32  Thursday  December      No      casual\n",
       "50893    23     21  Thursday  December      No      member\n",
       "\n",
       "[50894 rows x 6 columns]"
      ],
      "text/html": "<div>\n<style scoped>\n    .dataframe tbody tr th:only-of-type {\n        vertical-align: middle;\n    }\n\n    .dataframe tbody tr th {\n        vertical-align: top;\n    }\n\n    .dataframe thead th {\n        text-align: right;\n    }\n</style>\n<table border=\"1\" class=\"dataframe\">\n  <thead>\n    <tr style=\"text-align: right;\">\n      <th></th>\n      <th>hour</th>\n      <th>count</th>\n      <th>weekday</th>\n      <th>month</th>\n      <th>holiday</th>\n      <th>Member type</th>\n    </tr>\n  </thead>\n  <tbody>\n    <tr>\n      <th>0</th>\n      <td>0</td>\n      <td>6</td>\n      <td>Monday</td>\n      <td>January</td>\n      <td>No</td>\n      <td>Casual</td>\n    </tr>\n    <tr>\n      <th>1</th>\n      <td>0</td>\n      <td>28</td>\n      <td>Monday</td>\n      <td>January</td>\n      <td>No</td>\n      <td>Member</td>\n    </tr>\n    <tr>\n      <th>2</th>\n      <td>1</td>\n      <td>11</td>\n      <td>Monday</td>\n      <td>January</td>\n      <td>No</td>\n      <td>Casual</td>\n    </tr>\n    <tr>\n      <th>3</th>\n      <td>1</td>\n      <td>38</td>\n      <td>Monday</td>\n      <td>January</td>\n      <td>No</td>\n      <td>Member</td>\n    </tr>\n    <tr>\n      <th>4</th>\n      <td>2</td>\n      <td>7</td>\n      <td>Monday</td>\n      <td>January</td>\n      <td>No</td>\n      <td>Casual</td>\n    </tr>\n    <tr>\n      <th>...</th>\n      <td>...</td>\n      <td>...</td>\n      <td>...</td>\n      <td>...</td>\n      <td>...</td>\n      <td>...</td>\n    </tr>\n    <tr>\n      <th>50889</th>\n      <td>21</td>\n      <td>29</td>\n      <td>Thursday</td>\n      <td>December</td>\n      <td>No</td>\n      <td>member</td>\n    </tr>\n    <tr>\n      <th>50890</th>\n      <td>22</td>\n      <td>25</td>\n      <td>Thursday</td>\n      <td>December</td>\n      <td>No</td>\n      <td>casual</td>\n    </tr>\n    <tr>\n      <th>50891</th>\n      <td>22</td>\n      <td>31</td>\n      <td>Thursday</td>\n      <td>December</td>\n      <td>No</td>\n      <td>member</td>\n    </tr>\n    <tr>\n      <th>50892</th>\n      <td>23</td>\n      <td>32</td>\n      <td>Thursday</td>\n      <td>December</td>\n      <td>No</td>\n      <td>casual</td>\n    </tr>\n    <tr>\n      <th>50893</th>\n      <td>23</td>\n      <td>21</td>\n      <td>Thursday</td>\n      <td>December</td>\n      <td>No</td>\n      <td>member</td>\n    </tr>\n  </tbody>\n</table>\n<p>50894 rows × 6 columns</p>\n</div>"
     },
     "metadata": {},
     "execution_count": 142
    }
   ],
   "source": [
    "## Preprocessing\n",
    "\n",
    "df = df[['hour','count',\"weekday\",\"month\",\"holiday\", \"Member type\"]]\n",
    "df"
   ]
  },
  {
   "cell_type": "code",
   "execution_count": 143,
   "metadata": {},
   "outputs": [
    {
     "output_type": "execute_result",
     "data": {
      "text/plain": [
       "       hour  count   weekday     month holiday Member_type\n",
       "0         0      6    Monday   January      No      Casual\n",
       "1         0     28    Monday   January      No      Member\n",
       "2         1     11    Monday   January      No      Casual\n",
       "3         1     38    Monday   January      No      Member\n",
       "4         2      7    Monday   January      No      Casual\n",
       "...     ...    ...       ...       ...     ...         ...\n",
       "50889    21     29  Thursday  December      No      member\n",
       "50890    22     25  Thursday  December      No      casual\n",
       "50891    22     31  Thursday  December      No      member\n",
       "50892    23     32  Thursday  December      No      casual\n",
       "50893    23     21  Thursday  December      No      member\n",
       "\n",
       "[50894 rows x 6 columns]"
      ],
      "text/html": "<div>\n<style scoped>\n    .dataframe tbody tr th:only-of-type {\n        vertical-align: middle;\n    }\n\n    .dataframe tbody tr th {\n        vertical-align: top;\n    }\n\n    .dataframe thead th {\n        text-align: right;\n    }\n</style>\n<table border=\"1\" class=\"dataframe\">\n  <thead>\n    <tr style=\"text-align: right;\">\n      <th></th>\n      <th>hour</th>\n      <th>count</th>\n      <th>weekday</th>\n      <th>month</th>\n      <th>holiday</th>\n      <th>Member_type</th>\n    </tr>\n  </thead>\n  <tbody>\n    <tr>\n      <th>0</th>\n      <td>0</td>\n      <td>6</td>\n      <td>Monday</td>\n      <td>January</td>\n      <td>No</td>\n      <td>Casual</td>\n    </tr>\n    <tr>\n      <th>1</th>\n      <td>0</td>\n      <td>28</td>\n      <td>Monday</td>\n      <td>January</td>\n      <td>No</td>\n      <td>Member</td>\n    </tr>\n    <tr>\n      <th>2</th>\n      <td>1</td>\n      <td>11</td>\n      <td>Monday</td>\n      <td>January</td>\n      <td>No</td>\n      <td>Casual</td>\n    </tr>\n    <tr>\n      <th>3</th>\n      <td>1</td>\n      <td>38</td>\n      <td>Monday</td>\n      <td>January</td>\n      <td>No</td>\n      <td>Member</td>\n    </tr>\n    <tr>\n      <th>4</th>\n      <td>2</td>\n      <td>7</td>\n      <td>Monday</td>\n      <td>January</td>\n      <td>No</td>\n      <td>Casual</td>\n    </tr>\n    <tr>\n      <th>...</th>\n      <td>...</td>\n      <td>...</td>\n      <td>...</td>\n      <td>...</td>\n      <td>...</td>\n      <td>...</td>\n    </tr>\n    <tr>\n      <th>50889</th>\n      <td>21</td>\n      <td>29</td>\n      <td>Thursday</td>\n      <td>December</td>\n      <td>No</td>\n      <td>member</td>\n    </tr>\n    <tr>\n      <th>50890</th>\n      <td>22</td>\n      <td>25</td>\n      <td>Thursday</td>\n      <td>December</td>\n      <td>No</td>\n      <td>casual</td>\n    </tr>\n    <tr>\n      <th>50891</th>\n      <td>22</td>\n      <td>31</td>\n      <td>Thursday</td>\n      <td>December</td>\n      <td>No</td>\n      <td>member</td>\n    </tr>\n    <tr>\n      <th>50892</th>\n      <td>23</td>\n      <td>32</td>\n      <td>Thursday</td>\n      <td>December</td>\n      <td>No</td>\n      <td>casual</td>\n    </tr>\n    <tr>\n      <th>50893</th>\n      <td>23</td>\n      <td>21</td>\n      <td>Thursday</td>\n      <td>December</td>\n      <td>No</td>\n      <td>member</td>\n    </tr>\n  </tbody>\n</table>\n<p>50894 rows × 6 columns</p>\n</div>"
     },
     "metadata": {},
     "execution_count": 143
    }
   ],
   "source": [
    "df.columns = [ 'hour','count',\"weekday\",\"month\",\"holiday\", \"Member_type\"]\n",
    "df"
   ]
  },
  {
   "cell_type": "code",
   "execution_count": 144,
   "metadata": {},
   "outputs": [
    {
     "output_type": "execute_result",
     "data": {
      "text/plain": [
       "       hour  count   weekday     month holiday Member_type\n",
       "0         0      6    Monday   January      No      Casual\n",
       "1         0     28    Monday   January      No      Member\n",
       "2         1     11    Monday   January      No      Casual\n",
       "3         1     38    Monday   January      No      Member\n",
       "4         2      7    Monday   January      No      Casual\n",
       "...     ...    ...       ...       ...     ...         ...\n",
       "50889    21     29  Thursday  December      No      member\n",
       "50890    22     25  Thursday  December      No      casual\n",
       "50891    22     31  Thursday  December      No      member\n",
       "50892    23     32  Thursday  December      No      casual\n",
       "50893    23     21  Thursday  December      No      member\n",
       "\n",
       "[50894 rows x 6 columns]"
      ],
      "text/html": "<div>\n<style scoped>\n    .dataframe tbody tr th:only-of-type {\n        vertical-align: middle;\n    }\n\n    .dataframe tbody tr th {\n        vertical-align: top;\n    }\n\n    .dataframe thead th {\n        text-align: right;\n    }\n</style>\n<table border=\"1\" class=\"dataframe\">\n  <thead>\n    <tr style=\"text-align: right;\">\n      <th></th>\n      <th>hour</th>\n      <th>count</th>\n      <th>weekday</th>\n      <th>month</th>\n      <th>holiday</th>\n      <th>Member_type</th>\n    </tr>\n  </thead>\n  <tbody>\n    <tr>\n      <th>0</th>\n      <td>0</td>\n      <td>6</td>\n      <td>Monday</td>\n      <td>January</td>\n      <td>No</td>\n      <td>Casual</td>\n    </tr>\n    <tr>\n      <th>1</th>\n      <td>0</td>\n      <td>28</td>\n      <td>Monday</td>\n      <td>January</td>\n      <td>No</td>\n      <td>Member</td>\n    </tr>\n    <tr>\n      <th>2</th>\n      <td>1</td>\n      <td>11</td>\n      <td>Monday</td>\n      <td>January</td>\n      <td>No</td>\n      <td>Casual</td>\n    </tr>\n    <tr>\n      <th>3</th>\n      <td>1</td>\n      <td>38</td>\n      <td>Monday</td>\n      <td>January</td>\n      <td>No</td>\n      <td>Member</td>\n    </tr>\n    <tr>\n      <th>4</th>\n      <td>2</td>\n      <td>7</td>\n      <td>Monday</td>\n      <td>January</td>\n      <td>No</td>\n      <td>Casual</td>\n    </tr>\n    <tr>\n      <th>...</th>\n      <td>...</td>\n      <td>...</td>\n      <td>...</td>\n      <td>...</td>\n      <td>...</td>\n      <td>...</td>\n    </tr>\n    <tr>\n      <th>50889</th>\n      <td>21</td>\n      <td>29</td>\n      <td>Thursday</td>\n      <td>December</td>\n      <td>No</td>\n      <td>member</td>\n    </tr>\n    <tr>\n      <th>50890</th>\n      <td>22</td>\n      <td>25</td>\n      <td>Thursday</td>\n      <td>December</td>\n      <td>No</td>\n      <td>casual</td>\n    </tr>\n    <tr>\n      <th>50891</th>\n      <td>22</td>\n      <td>31</td>\n      <td>Thursday</td>\n      <td>December</td>\n      <td>No</td>\n      <td>member</td>\n    </tr>\n    <tr>\n      <th>50892</th>\n      <td>23</td>\n      <td>32</td>\n      <td>Thursday</td>\n      <td>December</td>\n      <td>No</td>\n      <td>casual</td>\n    </tr>\n    <tr>\n      <th>50893</th>\n      <td>23</td>\n      <td>21</td>\n      <td>Thursday</td>\n      <td>December</td>\n      <td>No</td>\n      <td>member</td>\n    </tr>\n  </tbody>\n</table>\n<p>50894 rows × 6 columns</p>\n</div>"
     },
     "metadata": {},
     "execution_count": 144
    }
   ],
   "source": [
    "df"
   ]
  },
  {
   "cell_type": "code",
   "execution_count": 145,
   "metadata": {},
   "outputs": [
    {
     "output_type": "stream",
     "name": "stderr",
     "text": [
      "<ipython-input-145-5497ced04d2d>:1: SettingWithCopyWarning: \nA value is trying to be set on a copy of a slice from a DataFrame.\nTry using .loc[row_indexer,col_indexer] = value instead\n\nSee the caveats in the documentation: https://pandas.pydata.org/pandas-docs/stable/user_guide/indexing.html#returning-a-view-versus-a-copy\n  df['Member_type'] = df['Member_type'].str.lower();\n"
     ]
    }
   ],
   "source": [
    "df['Member_type'] = df['Member_type'].str.lower();"
   ]
  },
  {
   "cell_type": "code",
   "execution_count": 146,
   "metadata": {},
   "outputs": [
    {
     "output_type": "stream",
     "name": "stderr",
     "text": [
      "C:\\Users\\Davide Della Valle\\anacondanew\\lib\\site-packages\\pandas\\core\\generic.py:5168: SettingWithCopyWarning: \nA value is trying to be set on a copy of a slice from a DataFrame.\nTry using .loc[row_indexer,col_indexer] = value instead\n\nSee the caveats in the documentation: https://pandas.pydata.org/pandas-docs/stable/user_guide/indexing.html#returning-a-view-versus-a-copy\n  self[name] = value\n"
     ]
    }
   ],
   "source": [
    "df.holiday = df.holiday.astype('category');\n",
    "df.weekday = df.weekday.astype('category');\n",
    "df.month = df.month.astype('category');\n",
    "df.Member_type = df.Member_type.astype('category');"
   ]
  },
  {
   "cell_type": "code",
   "execution_count": 147,
   "metadata": {},
   "outputs": [
    {
     "output_type": "execute_result",
     "data": {
      "text/plain": [
       "hour              int64\n",
       "count             int64\n",
       "weekday        category\n",
       "month          category\n",
       "holiday        category\n",
       "Member_type    category\n",
       "dtype: object"
      ]
     },
     "metadata": {},
     "execution_count": 147
    }
   ],
   "source": [
    "df.dtypes"
   ]
  },
  {
   "cell_type": "code",
   "execution_count": 148,
   "metadata": {},
   "outputs": [
    {
     "output_type": "execute_result",
     "data": {
      "text/plain": [
       "       hour  count  weekday_Friday  weekday_Monday  weekday_Saturday  \\\n",
       "0         0      6               0               1                 0   \n",
       "1         0     28               0               1                 0   \n",
       "2         1     11               0               1                 0   \n",
       "3         1     38               0               1                 0   \n",
       "4         2      7               0               1                 0   \n",
       "...     ...    ...             ...             ...               ...   \n",
       "50889    21     29               0               0                 0   \n",
       "50890    22     25               0               0                 0   \n",
       "50891    22     31               0               0                 0   \n",
       "50892    23     32               0               0                 0   \n",
       "50893    23     21               0               0                 0   \n",
       "\n",
       "       weekday_Sunday  weekday_Thursday  weekday_Tuesday  weekday_Wednesday  \\\n",
       "0                   0                 0                0                  0   \n",
       "1                   0                 0                0                  0   \n",
       "2                   0                 0                0                  0   \n",
       "3                   0                 0                0                  0   \n",
       "4                   0                 0                0                  0   \n",
       "...               ...               ...              ...                ...   \n",
       "50889               0                 1                0                  0   \n",
       "50890               0                 1                0                  0   \n",
       "50891               0                 1                0                  0   \n",
       "50892               0                 1                0                  0   \n",
       "50893               0                 1                0                  0   \n",
       "\n",
       "       month_April  ...  month_June  month_March  month_May  month_November  \\\n",
       "0                0  ...           0            0          0               0   \n",
       "1                0  ...           0            0          0               0   \n",
       "2                0  ...           0            0          0               0   \n",
       "3                0  ...           0            0          0               0   \n",
       "4                0  ...           0            0          0               0   \n",
       "...            ...  ...         ...          ...        ...             ...   \n",
       "50889            0  ...           0            0          0               0   \n",
       "50890            0  ...           0            0          0               0   \n",
       "50891            0  ...           0            0          0               0   \n",
       "50892            0  ...           0            0          0               0   \n",
       "50893            0  ...           0            0          0               0   \n",
       "\n",
       "       month_October  month_September  holiday_No  holiday_Yes  \\\n",
       "0                  0                0           1            0   \n",
       "1                  0                0           1            0   \n",
       "2                  0                0           1            0   \n",
       "3                  0                0           1            0   \n",
       "4                  0                0           1            0   \n",
       "...              ...              ...         ...          ...   \n",
       "50889              0                0           1            0   \n",
       "50890              0                0           1            0   \n",
       "50891              0                0           1            0   \n",
       "50892              0                0           1            0   \n",
       "50893              0                0           1            0   \n",
       "\n",
       "       Member_type_casual  Member_type_member  \n",
       "0                       1                   0  \n",
       "1                       0                   1  \n",
       "2                       1                   0  \n",
       "3                       0                   1  \n",
       "4                       1                   0  \n",
       "...                   ...                 ...  \n",
       "50889                   0                   1  \n",
       "50890                   1                   0  \n",
       "50891                   0                   1  \n",
       "50892                   1                   0  \n",
       "50893                   0                   1  \n",
       "\n",
       "[50894 rows x 25 columns]"
      ],
      "text/html": "<div>\n<style scoped>\n    .dataframe tbody tr th:only-of-type {\n        vertical-align: middle;\n    }\n\n    .dataframe tbody tr th {\n        vertical-align: top;\n    }\n\n    .dataframe thead th {\n        text-align: right;\n    }\n</style>\n<table border=\"1\" class=\"dataframe\">\n  <thead>\n    <tr style=\"text-align: right;\">\n      <th></th>\n      <th>hour</th>\n      <th>count</th>\n      <th>weekday_Friday</th>\n      <th>weekday_Monday</th>\n      <th>weekday_Saturday</th>\n      <th>weekday_Sunday</th>\n      <th>weekday_Thursday</th>\n      <th>weekday_Tuesday</th>\n      <th>weekday_Wednesday</th>\n      <th>month_April</th>\n      <th>...</th>\n      <th>month_June</th>\n      <th>month_March</th>\n      <th>month_May</th>\n      <th>month_November</th>\n      <th>month_October</th>\n      <th>month_September</th>\n      <th>holiday_No</th>\n      <th>holiday_Yes</th>\n      <th>Member_type_casual</th>\n      <th>Member_type_member</th>\n    </tr>\n  </thead>\n  <tbody>\n    <tr>\n      <th>0</th>\n      <td>0</td>\n      <td>6</td>\n      <td>0</td>\n      <td>1</td>\n      <td>0</td>\n      <td>0</td>\n      <td>0</td>\n      <td>0</td>\n      <td>0</td>\n      <td>0</td>\n      <td>...</td>\n      <td>0</td>\n      <td>0</td>\n      <td>0</td>\n      <td>0</td>\n      <td>0</td>\n      <td>0</td>\n      <td>1</td>\n      <td>0</td>\n      <td>1</td>\n      <td>0</td>\n    </tr>\n    <tr>\n      <th>1</th>\n      <td>0</td>\n      <td>28</td>\n      <td>0</td>\n      <td>1</td>\n      <td>0</td>\n      <td>0</td>\n      <td>0</td>\n      <td>0</td>\n      <td>0</td>\n      <td>0</td>\n      <td>...</td>\n      <td>0</td>\n      <td>0</td>\n      <td>0</td>\n      <td>0</td>\n      <td>0</td>\n      <td>0</td>\n      <td>1</td>\n      <td>0</td>\n      <td>0</td>\n      <td>1</td>\n    </tr>\n    <tr>\n      <th>2</th>\n      <td>1</td>\n      <td>11</td>\n      <td>0</td>\n      <td>1</td>\n      <td>0</td>\n      <td>0</td>\n      <td>0</td>\n      <td>0</td>\n      <td>0</td>\n      <td>0</td>\n      <td>...</td>\n      <td>0</td>\n      <td>0</td>\n      <td>0</td>\n      <td>0</td>\n      <td>0</td>\n      <td>0</td>\n      <td>1</td>\n      <td>0</td>\n      <td>1</td>\n      <td>0</td>\n    </tr>\n    <tr>\n      <th>3</th>\n      <td>1</td>\n      <td>38</td>\n      <td>0</td>\n      <td>1</td>\n      <td>0</td>\n      <td>0</td>\n      <td>0</td>\n      <td>0</td>\n      <td>0</td>\n      <td>0</td>\n      <td>...</td>\n      <td>0</td>\n      <td>0</td>\n      <td>0</td>\n      <td>0</td>\n      <td>0</td>\n      <td>0</td>\n      <td>1</td>\n      <td>0</td>\n      <td>0</td>\n      <td>1</td>\n    </tr>\n    <tr>\n      <th>4</th>\n      <td>2</td>\n      <td>7</td>\n      <td>0</td>\n      <td>1</td>\n      <td>0</td>\n      <td>0</td>\n      <td>0</td>\n      <td>0</td>\n      <td>0</td>\n      <td>0</td>\n      <td>...</td>\n      <td>0</td>\n      <td>0</td>\n      <td>0</td>\n      <td>0</td>\n      <td>0</td>\n      <td>0</td>\n      <td>1</td>\n      <td>0</td>\n      <td>1</td>\n      <td>0</td>\n    </tr>\n    <tr>\n      <th>...</th>\n      <td>...</td>\n      <td>...</td>\n      <td>...</td>\n      <td>...</td>\n      <td>...</td>\n      <td>...</td>\n      <td>...</td>\n      <td>...</td>\n      <td>...</td>\n      <td>...</td>\n      <td>...</td>\n      <td>...</td>\n      <td>...</td>\n      <td>...</td>\n      <td>...</td>\n      <td>...</td>\n      <td>...</td>\n      <td>...</td>\n      <td>...</td>\n      <td>...</td>\n      <td>...</td>\n    </tr>\n    <tr>\n      <th>50889</th>\n      <td>21</td>\n      <td>29</td>\n      <td>0</td>\n      <td>0</td>\n      <td>0</td>\n      <td>0</td>\n      <td>1</td>\n      <td>0</td>\n      <td>0</td>\n      <td>0</td>\n      <td>...</td>\n      <td>0</td>\n      <td>0</td>\n      <td>0</td>\n      <td>0</td>\n      <td>0</td>\n      <td>0</td>\n      <td>1</td>\n      <td>0</td>\n      <td>0</td>\n      <td>1</td>\n    </tr>\n    <tr>\n      <th>50890</th>\n      <td>22</td>\n      <td>25</td>\n      <td>0</td>\n      <td>0</td>\n      <td>0</td>\n      <td>0</td>\n      <td>1</td>\n      <td>0</td>\n      <td>0</td>\n      <td>0</td>\n      <td>...</td>\n      <td>0</td>\n      <td>0</td>\n      <td>0</td>\n      <td>0</td>\n      <td>0</td>\n      <td>0</td>\n      <td>1</td>\n      <td>0</td>\n      <td>1</td>\n      <td>0</td>\n    </tr>\n    <tr>\n      <th>50891</th>\n      <td>22</td>\n      <td>31</td>\n      <td>0</td>\n      <td>0</td>\n      <td>0</td>\n      <td>0</td>\n      <td>1</td>\n      <td>0</td>\n      <td>0</td>\n      <td>0</td>\n      <td>...</td>\n      <td>0</td>\n      <td>0</td>\n      <td>0</td>\n      <td>0</td>\n      <td>0</td>\n      <td>0</td>\n      <td>1</td>\n      <td>0</td>\n      <td>0</td>\n      <td>1</td>\n    </tr>\n    <tr>\n      <th>50892</th>\n      <td>23</td>\n      <td>32</td>\n      <td>0</td>\n      <td>0</td>\n      <td>0</td>\n      <td>0</td>\n      <td>1</td>\n      <td>0</td>\n      <td>0</td>\n      <td>0</td>\n      <td>...</td>\n      <td>0</td>\n      <td>0</td>\n      <td>0</td>\n      <td>0</td>\n      <td>0</td>\n      <td>0</td>\n      <td>1</td>\n      <td>0</td>\n      <td>1</td>\n      <td>0</td>\n    </tr>\n    <tr>\n      <th>50893</th>\n      <td>23</td>\n      <td>21</td>\n      <td>0</td>\n      <td>0</td>\n      <td>0</td>\n      <td>0</td>\n      <td>1</td>\n      <td>0</td>\n      <td>0</td>\n      <td>0</td>\n      <td>...</td>\n      <td>0</td>\n      <td>0</td>\n      <td>0</td>\n      <td>0</td>\n      <td>0</td>\n      <td>0</td>\n      <td>1</td>\n      <td>0</td>\n      <td>0</td>\n      <td>1</td>\n    </tr>\n  </tbody>\n</table>\n<p>50894 rows × 25 columns</p>\n</div>"
     },
     "metadata": {},
     "execution_count": 148
    }
   ],
   "source": [
    "## modelling - creating dummies for recognition, dividing data between training and test, fitting model with data\n",
    "\n",
    "df = pd.get_dummies(df)\n",
    "df"
   ]
  },
  {
   "cell_type": "code",
   "execution_count": 149,
   "metadata": {},
   "outputs": [],
   "source": [
    "x = df.drop(columns = ['count'])\n",
    "y = df['count']"
   ]
  },
  {
   "cell_type": "code",
   "execution_count": 152,
   "metadata": {},
   "outputs": [
    {
     "output_type": "execute_result",
     "data": {
      "text/plain": [
       "       hour  weekday_Friday  weekday_Monday  weekday_Saturday  weekday_Sunday  \\\n",
       "0         0               0               1                 0               0   \n",
       "1         0               0               1                 0               0   \n",
       "2         1               0               1                 0               0   \n",
       "3         1               0               1                 0               0   \n",
       "4         2               0               1                 0               0   \n",
       "...     ...             ...             ...               ...             ...   \n",
       "50889    21               0               0                 0               0   \n",
       "50890    22               0               0                 0               0   \n",
       "50891    22               0               0                 0               0   \n",
       "50892    23               0               0                 0               0   \n",
       "50893    23               0               0                 0               0   \n",
       "\n",
       "       weekday_Thursday  weekday_Tuesday  weekday_Wednesday  month_April  \\\n",
       "0                     0                0                  0            0   \n",
       "1                     0                0                  0            0   \n",
       "2                     0                0                  0            0   \n",
       "3                     0                0                  0            0   \n",
       "4                     0                0                  0            0   \n",
       "...                 ...              ...                ...          ...   \n",
       "50889                 1                0                  0            0   \n",
       "50890                 1                0                  0            0   \n",
       "50891                 1                0                  0            0   \n",
       "50892                 1                0                  0            0   \n",
       "50893                 1                0                  0            0   \n",
       "\n",
       "       month_August  ...  month_June  month_March  month_May  month_November  \\\n",
       "0                 0  ...           0            0          0               0   \n",
       "1                 0  ...           0            0          0               0   \n",
       "2                 0  ...           0            0          0               0   \n",
       "3                 0  ...           0            0          0               0   \n",
       "4                 0  ...           0            0          0               0   \n",
       "...             ...  ...         ...          ...        ...             ...   \n",
       "50889             0  ...           0            0          0               0   \n",
       "50890             0  ...           0            0          0               0   \n",
       "50891             0  ...           0            0          0               0   \n",
       "50892             0  ...           0            0          0               0   \n",
       "50893             0  ...           0            0          0               0   \n",
       "\n",
       "       month_October  month_September  holiday_No  holiday_Yes  \\\n",
       "0                  0                0           1            0   \n",
       "1                  0                0           1            0   \n",
       "2                  0                0           1            0   \n",
       "3                  0                0           1            0   \n",
       "4                  0                0           1            0   \n",
       "...              ...              ...         ...          ...   \n",
       "50889              0                0           1            0   \n",
       "50890              0                0           1            0   \n",
       "50891              0                0           1            0   \n",
       "50892              0                0           1            0   \n",
       "50893              0                0           1            0   \n",
       "\n",
       "       Member_type_casual  Member_type_member  \n",
       "0                       1                   0  \n",
       "1                       0                   1  \n",
       "2                       1                   0  \n",
       "3                       0                   1  \n",
       "4                       1                   0  \n",
       "...                   ...                 ...  \n",
       "50889                   0                   1  \n",
       "50890                   1                   0  \n",
       "50891                   0                   1  \n",
       "50892                   1                   0  \n",
       "50893                   0                   1  \n",
       "\n",
       "[50894 rows x 24 columns]"
      ],
      "text/html": "<div>\n<style scoped>\n    .dataframe tbody tr th:only-of-type {\n        vertical-align: middle;\n    }\n\n    .dataframe tbody tr th {\n        vertical-align: top;\n    }\n\n    .dataframe thead th {\n        text-align: right;\n    }\n</style>\n<table border=\"1\" class=\"dataframe\">\n  <thead>\n    <tr style=\"text-align: right;\">\n      <th></th>\n      <th>hour</th>\n      <th>weekday_Friday</th>\n      <th>weekday_Monday</th>\n      <th>weekday_Saturday</th>\n      <th>weekday_Sunday</th>\n      <th>weekday_Thursday</th>\n      <th>weekday_Tuesday</th>\n      <th>weekday_Wednesday</th>\n      <th>month_April</th>\n      <th>month_August</th>\n      <th>...</th>\n      <th>month_June</th>\n      <th>month_March</th>\n      <th>month_May</th>\n      <th>month_November</th>\n      <th>month_October</th>\n      <th>month_September</th>\n      <th>holiday_No</th>\n      <th>holiday_Yes</th>\n      <th>Member_type_casual</th>\n      <th>Member_type_member</th>\n    </tr>\n  </thead>\n  <tbody>\n    <tr>\n      <th>0</th>\n      <td>0</td>\n      <td>0</td>\n      <td>1</td>\n      <td>0</td>\n      <td>0</td>\n      <td>0</td>\n      <td>0</td>\n      <td>0</td>\n      <td>0</td>\n      <td>0</td>\n      <td>...</td>\n      <td>0</td>\n      <td>0</td>\n      <td>0</td>\n      <td>0</td>\n      <td>0</td>\n      <td>0</td>\n      <td>1</td>\n      <td>0</td>\n      <td>1</td>\n      <td>0</td>\n    </tr>\n    <tr>\n      <th>1</th>\n      <td>0</td>\n      <td>0</td>\n      <td>1</td>\n      <td>0</td>\n      <td>0</td>\n      <td>0</td>\n      <td>0</td>\n      <td>0</td>\n      <td>0</td>\n      <td>0</td>\n      <td>...</td>\n      <td>0</td>\n      <td>0</td>\n      <td>0</td>\n      <td>0</td>\n      <td>0</td>\n      <td>0</td>\n      <td>1</td>\n      <td>0</td>\n      <td>0</td>\n      <td>1</td>\n    </tr>\n    <tr>\n      <th>2</th>\n      <td>1</td>\n      <td>0</td>\n      <td>1</td>\n      <td>0</td>\n      <td>0</td>\n      <td>0</td>\n      <td>0</td>\n      <td>0</td>\n      <td>0</td>\n      <td>0</td>\n      <td>...</td>\n      <td>0</td>\n      <td>0</td>\n      <td>0</td>\n      <td>0</td>\n      <td>0</td>\n      <td>0</td>\n      <td>1</td>\n      <td>0</td>\n      <td>1</td>\n      <td>0</td>\n    </tr>\n    <tr>\n      <th>3</th>\n      <td>1</td>\n      <td>0</td>\n      <td>1</td>\n      <td>0</td>\n      <td>0</td>\n      <td>0</td>\n      <td>0</td>\n      <td>0</td>\n      <td>0</td>\n      <td>0</td>\n      <td>...</td>\n      <td>0</td>\n      <td>0</td>\n      <td>0</td>\n      <td>0</td>\n      <td>0</td>\n      <td>0</td>\n      <td>1</td>\n      <td>0</td>\n      <td>0</td>\n      <td>1</td>\n    </tr>\n    <tr>\n      <th>4</th>\n      <td>2</td>\n      <td>0</td>\n      <td>1</td>\n      <td>0</td>\n      <td>0</td>\n      <td>0</td>\n      <td>0</td>\n      <td>0</td>\n      <td>0</td>\n      <td>0</td>\n      <td>...</td>\n      <td>0</td>\n      <td>0</td>\n      <td>0</td>\n      <td>0</td>\n      <td>0</td>\n      <td>0</td>\n      <td>1</td>\n      <td>0</td>\n      <td>1</td>\n      <td>0</td>\n    </tr>\n    <tr>\n      <th>...</th>\n      <td>...</td>\n      <td>...</td>\n      <td>...</td>\n      <td>...</td>\n      <td>...</td>\n      <td>...</td>\n      <td>...</td>\n      <td>...</td>\n      <td>...</td>\n      <td>...</td>\n      <td>...</td>\n      <td>...</td>\n      <td>...</td>\n      <td>...</td>\n      <td>...</td>\n      <td>...</td>\n      <td>...</td>\n      <td>...</td>\n      <td>...</td>\n      <td>...</td>\n      <td>...</td>\n    </tr>\n    <tr>\n      <th>50889</th>\n      <td>21</td>\n      <td>0</td>\n      <td>0</td>\n      <td>0</td>\n      <td>0</td>\n      <td>1</td>\n      <td>0</td>\n      <td>0</td>\n      <td>0</td>\n      <td>0</td>\n      <td>...</td>\n      <td>0</td>\n      <td>0</td>\n      <td>0</td>\n      <td>0</td>\n      <td>0</td>\n      <td>0</td>\n      <td>1</td>\n      <td>0</td>\n      <td>0</td>\n      <td>1</td>\n    </tr>\n    <tr>\n      <th>50890</th>\n      <td>22</td>\n      <td>0</td>\n      <td>0</td>\n      <td>0</td>\n      <td>0</td>\n      <td>1</td>\n      <td>0</td>\n      <td>0</td>\n      <td>0</td>\n      <td>0</td>\n      <td>...</td>\n      <td>0</td>\n      <td>0</td>\n      <td>0</td>\n      <td>0</td>\n      <td>0</td>\n      <td>0</td>\n      <td>1</td>\n      <td>0</td>\n      <td>1</td>\n      <td>0</td>\n    </tr>\n    <tr>\n      <th>50891</th>\n      <td>22</td>\n      <td>0</td>\n      <td>0</td>\n      <td>0</td>\n      <td>0</td>\n      <td>1</td>\n      <td>0</td>\n      <td>0</td>\n      <td>0</td>\n      <td>0</td>\n      <td>...</td>\n      <td>0</td>\n      <td>0</td>\n      <td>0</td>\n      <td>0</td>\n      <td>0</td>\n      <td>0</td>\n      <td>1</td>\n      <td>0</td>\n      <td>0</td>\n      <td>1</td>\n    </tr>\n    <tr>\n      <th>50892</th>\n      <td>23</td>\n      <td>0</td>\n      <td>0</td>\n      <td>0</td>\n      <td>0</td>\n      <td>1</td>\n      <td>0</td>\n      <td>0</td>\n      <td>0</td>\n      <td>0</td>\n      <td>...</td>\n      <td>0</td>\n      <td>0</td>\n      <td>0</td>\n      <td>0</td>\n      <td>0</td>\n      <td>0</td>\n      <td>1</td>\n      <td>0</td>\n      <td>1</td>\n      <td>0</td>\n    </tr>\n    <tr>\n      <th>50893</th>\n      <td>23</td>\n      <td>0</td>\n      <td>0</td>\n      <td>0</td>\n      <td>0</td>\n      <td>1</td>\n      <td>0</td>\n      <td>0</td>\n      <td>0</td>\n      <td>0</td>\n      <td>...</td>\n      <td>0</td>\n      <td>0</td>\n      <td>0</td>\n      <td>0</td>\n      <td>0</td>\n      <td>0</td>\n      <td>1</td>\n      <td>0</td>\n      <td>0</td>\n      <td>1</td>\n    </tr>\n  </tbody>\n</table>\n<p>50894 rows × 24 columns</p>\n</div>"
     },
     "metadata": {},
     "execution_count": 152
    }
   ],
   "source": [
    "x"
   ]
  },
  {
   "cell_type": "code",
   "execution_count": 153,
   "metadata": {},
   "outputs": [
    {
     "output_type": "execute_result",
     "data": {
      "text/plain": [
       "Index(['hour', 'weekday_Friday', 'weekday_Monday', 'weekday_Saturday',\n",
       "       'weekday_Sunday', 'weekday_Thursday', 'weekday_Tuesday',\n",
       "       'weekday_Wednesday', 'month_April', 'month_August', 'month_December',\n",
       "       'month_February', 'month_January', 'month_July', 'month_June',\n",
       "       'month_March', 'month_May', 'month_November', 'month_October',\n",
       "       'month_September', 'holiday_No', 'holiday_Yes', 'Member_type_casual',\n",
       "       'Member_type_member'],\n",
       "      dtype='object')"
      ]
     },
     "metadata": {},
     "execution_count": 153
    }
   ],
   "source": [
    "x.columns"
   ]
  },
  {
   "cell_type": "code",
   "execution_count": 154,
   "metadata": {},
   "outputs": [
    {
     "output_type": "execute_result",
     "data": {
      "text/plain": [
       "hour                  0\n",
       "weekday_Friday        0\n",
       "weekday_Monday        1\n",
       "weekday_Saturday      0\n",
       "weekday_Sunday        0\n",
       "weekday_Thursday      0\n",
       "weekday_Tuesday       0\n",
       "weekday_Wednesday     0\n",
       "month_April           0\n",
       "month_August          0\n",
       "month_December        0\n",
       "month_February        0\n",
       "month_January         1\n",
       "month_July            0\n",
       "month_June            0\n",
       "month_March           0\n",
       "month_May             0\n",
       "month_November        0\n",
       "month_October         0\n",
       "month_September       0\n",
       "holiday_No            1\n",
       "holiday_Yes           0\n",
       "Member_type_casual    1\n",
       "Member_type_member    0\n",
       "Name: 0, dtype: int64"
      ]
     },
     "metadata": {},
     "execution_count": 154
    }
   ],
   "source": [
    "x.iloc[0]"
   ]
  },
  {
   "cell_type": "code",
   "execution_count": 155,
   "metadata": {},
   "outputs": [],
   "source": [
    "ada = AdaBoostRegressor()"
   ]
  },
  {
   "cell_type": "code",
   "execution_count": 156,
   "metadata": {},
   "outputs": [
    {
     "output_type": "execute_result",
     "data": {
      "text/plain": [
       "AdaBoostRegressor()"
      ]
     },
     "metadata": {},
     "execution_count": 156
    }
   ],
   "source": [
    "ada.fit(x,y)"
   ]
  },
  {
   "cell_type": "code",
   "execution_count": 157,
   "metadata": {},
   "outputs": [],
   "source": [
    "## Save the model in local repository\n",
    "\n",
    "pickle.dump(ada, open('model.pkl','wb'))"
   ]
  },
  {
   "cell_type": "code",
   "execution_count": null,
   "metadata": {},
   "outputs": [],
   "source": []
  }
 ]
}